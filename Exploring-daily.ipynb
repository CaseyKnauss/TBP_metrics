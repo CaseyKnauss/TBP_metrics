{
 "cells": [
  {
   "cell_type": "code",
   "execution_count": 26,
   "metadata": {
    "collapsed": false
   },
   "outputs": [],
   "source": [
    "from plotly import __version__\n",
    "from plotly.offline import download_plotlyjs, init_notebook_mode, iplot\n",
    "from plotly.offline import plot\n",
    "from plotly.graph_objs import Scatter\n",
    "init_notebook_mode() # run at the start of every ipython notebook to use plotly.offline\n",
    "                     # this injects the plotly.js source files into the notebook\n",
    "\n",
    "%matplotlib inline\n",
    "import matplotlib as plt\n",
    "plt.style.use('ggplot')\n",
    "import pandas as pd\n",
    "import numpy as np\n",
    "from datetime import datetime\n",
    "import plotly.plotly as py\n",
    "import plotly.graph_objs as go\n",
    "import cufflinks as cf\n",
    "cf.set_config_file(offline=False, world_readable=True, theme='ggplot')"
   ]
  },
  {
   "cell_type": "code",
   "execution_count": 2,
   "metadata": {
    "collapsed": false
   },
   "outputs": [
    {
     "data": {
      "text/html": [
       "<style>body {\n",
       "    margin: 0;\n",
       "    font-family: Helvetica;\n",
       "}\n",
       "table.dataframe {\n",
       "    border-collapse: collapse;\n",
       "    border: none;\n",
       "}\n",
       "table.dataframe tr {\n",
       "    border: none;\n",
       "}\n",
       "table.dataframe td, table.dataframe th {\n",
       "    margin: 0;\n",
       "    border: 1px solid white;\n",
       "    padding-left: 0.25em;\n",
       "    padding-right: 0.25em;\n",
       "}\n",
       "table.dataframe th:not(:empty) {\n",
       "    background-color: #fec;\n",
       "    text-align: left;\n",
       "    font-weight: normal;\n",
       "}\n",
       "table.dataframe tr:nth-child(2) th:empty {\n",
       "    border-left: none;\n",
       "    border-right: 1px dashed #888;\n",
       "}\n",
       "table.dataframe td {\n",
       "    border: 2px solid #ccf;\n",
       "    background-color: #f4f4ff;\n",
       "}\n",
       "h3 {\n",
       "    color: white;\n",
       "    background-color: black;\n",
       "    padding: 0.5em;\n",
       "}\n",
       "\n",
       "html {\n",
       "  font-size: 62.5% !important; }\n",
       "body {\n",
       "  font-size: 1.5em !important; /* currently ems cause chrome bug misinterpreting rems on body element */\n",
       "  line-height: 1.6 !important;\n",
       "  font-weight: 400 !important;\n",
       "  font-family: \"Raleway\", \"HelveticaNeue\", \"Helvetica Neue\", Helvetica, Arial, sans-serif !important;\n",
       "  color: #222 !important; }\n",
       "\n",
       "div{ border-radius: 0px !important;  }\n",
       "div.CodeMirror-sizer{ background: rgb(244, 244, 248) !important; }\n",
       "div.input_area{ background: rgb(244, 244, 248) !important; }\n",
       "\n",
       "div.out_prompt_overlay:hover{ background: rgb(244, 244, 248) !important; }\n",
       "div.input_prompt:hover{ background: rgb(244, 244, 248) !important; }\n",
       "\n",
       "h1, h2, h3, h4, h5, h6 {\n",
       "  color: #333 !important;\n",
       "  margin-top: 0 !important;\n",
       "  margin-bottom: 2rem !important;\n",
       "  font-weight: 300 !important; }\n",
       "h1 { font-size: 4.0rem !important; line-height: 1.2 !important;  letter-spacing: -.1rem !important;}\n",
       "h2 { font-size: 3.6rem !important; line-height: 1.25 !important; letter-spacing: -.1rem !important; }\n",
       "h3 { font-size: 3.0rem !important; line-height: 1.3 !important;  letter-spacing: -.1rem !important; }\n",
       "h4 { font-size: 2.4rem !important; line-height: 1.35 !important; letter-spacing: -.08rem !important; }\n",
       "h5 { font-size: 1.8rem !important; line-height: 1.5 !important;  letter-spacing: -.05rem !important; }\n",
       "h6 { font-size: 1.5rem !important; line-height: 1.6 !important;  letter-spacing: 0 !important; }\n",
       "\n",
       "@media (min-width: 550px) {\n",
       "  h1 { font-size: 5.0rem !important; }\n",
       "  h2 { font-size: 4.2rem !important; }\n",
       "  h3 { font-size: 3.6rem !important; }\n",
       "  h4 { font-size: 3.0rem !important; }\n",
       "  h5 { font-size: 2.4rem !important; }\n",
       "  h6 { font-size: 1.5rem !important; }\n",
       "}\n",
       "\n",
       "p {\n",
       "  margin-top: 0 !important; }\n",
       "\n",
       "a {\n",
       "  color: #1EAEDB !important; }\n",
       "a:hover {\n",
       "  color: #0FA0CE !important; }\n",
       "\n",
       "code {\n",
       "  padding: .2rem .5rem !important;\n",
       "  margin: 0 .2rem !important;\n",
       "  font-size: 90% !important;\n",
       "  white-space: nowrap !important;\n",
       "  background: #F1F1F1 !important;\n",
       "  border: 1px solid #E1E1E1 !important;\n",
       "  border-radius: 4px !important; }\n",
       "pre > code {\n",
       "  display: block !important;\n",
       "  padding: 1rem 1.5rem !important;\n",
       "  white-space: pre !important; }\n",
       "\n",
       "button{ border-radius: 0px !important; }\n",
       ".navbar-inner{ background-image: none !important;  }\n",
       "select, textarea{ border-radius: 0px !important; }\n",
       "</style>"
      ],
      "text/plain": [
       "<IPython.core.display.HTML object>"
      ]
     },
     "execution_count": 2,
     "metadata": {},
     "output_type": "execute_result"
    }
   ],
   "source": [
    "from IPython.core.display import HTML\n",
    "css = open(\"styles/style-table.css\").read() + open('styles/style-notebook.css').read() + open(\"styles/test.css\").read()\n",
    "HTML('<style>{}</style>'.format(css))"
   ]
  },
  {
   "cell_type": "code",
   "execution_count": 3,
   "metadata": {
    "collapsed": false
   },
   "outputs": [
    {
     "data": {
      "text/html": [
       "<div>\n",
       "<table border=\"1\" class=\"dataframe\">\n",
       "  <thead>\n",
       "    <tr style=\"text-align: right;\">\n",
       "      <th></th>\n",
       "      <th>item_title</th>\n",
       "      <th>release_date</th>\n",
       "      <th>downloads__april</th>\n",
       "      <th>downloads__march</th>\n",
       "      <th>downloads__february</th>\n",
       "      <th>downloads__total</th>\n",
       "    </tr>\n",
       "  </thead>\n",
       "  <tbody>\n",
       "    <tr>\n",
       "      <th>0</th>\n",
       "      <td>TBP50 - Not Giving a Good Got Damn</td>\n",
       "      <td>2016-04-04 10:24:41</td>\n",
       "      <td>114</td>\n",
       "      <td>0</td>\n",
       "      <td>0</td>\n",
       "      <td>114</td>\n",
       "    </tr>\n",
       "    <tr>\n",
       "      <th>1</th>\n",
       "      <td>TBP49 - Welterweight Gold</td>\n",
       "      <td>2016-03-31 10:47:53</td>\n",
       "      <td>330</td>\n",
       "      <td>253</td>\n",
       "      <td>0</td>\n",
       "      <td>583</td>\n",
       "    </tr>\n",
       "    <tr>\n",
       "      <th>2</th>\n",
       "      <td>TBP48 - Inertia, My Friend!</td>\n",
       "      <td>2016-03-27 18:30:33</td>\n",
       "      <td>27</td>\n",
       "      <td>460</td>\n",
       "      <td>0</td>\n",
       "      <td>487</td>\n",
       "    </tr>\n",
       "    <tr>\n",
       "      <th>3</th>\n",
       "      <td>TBP47 - Bottoms Up 4</td>\n",
       "      <td>2016-03-20 05:09:56</td>\n",
       "      <td>13</td>\n",
       "      <td>399</td>\n",
       "      <td>0</td>\n",
       "      <td>412</td>\n",
       "    </tr>\n",
       "    <tr>\n",
       "      <th>4</th>\n",
       "      <td>TBP46 - The Fundamental Conflict</td>\n",
       "      <td>2016-03-13 19:10:34</td>\n",
       "      <td>10</td>\n",
       "      <td>637</td>\n",
       "      <td>0</td>\n",
       "      <td>647</td>\n",
       "    </tr>\n",
       "  </tbody>\n",
       "</table>\n",
       "</div>"
      ],
      "text/plain": [
       "                           item_title        release_date  downloads__april  \\\n",
       "0  TBP50 - Not Giving a Good Got Damn 2016-04-04 10:24:41               114   \n",
       "1           TBP49 - Welterweight Gold 2016-03-31 10:47:53               330   \n",
       "2         TBP48 - Inertia, My Friend! 2016-03-27 18:30:33                27   \n",
       "3                TBP47 - Bottoms Up 4 2016-03-20 05:09:56                13   \n",
       "4    TBP46 - The Fundamental Conflict 2016-03-13 19:10:34                10   \n",
       "\n",
       "   downloads__march  downloads__february  downloads__total  \n",
       "0                 0                    0               114  \n",
       "1               253                    0               583  \n",
       "2               460                    0               487  \n",
       "3               399                    0               412  \n",
       "4               637                    0               647  "
      ]
     },
     "execution_count": 3,
     "metadata": {},
     "output_type": "execute_result"
    }
   ],
   "source": [
    "dtypes=[str,datetime.date,int,int,int,int]\n",
    "threemonth_metrics = pd.read_csv(\"raw_data/three-month-export_2016-04-04.csv\",parse_dates=[1])\n",
    "threemonth_metrics.head()"
   ]
  },
  {
   "cell_type": "code",
   "execution_count": 5,
   "metadata": {
    "collapsed": false
   },
   "outputs": [
    {
     "data": {
      "text/plain": [
       "<matplotlib.axes._subplots.AxesSubplot at 0x114a00470>"
      ]
     },
     "execution_count": 5,
     "metadata": {},
     "output_type": "execute_result"
    },
    {
     "data": {
      "image/png": "[encoded data removed]",
      "text/plain": [
       "<matplotlib.figure.Figure at 0x1149e61d0>"
      ]
     },
     "metadata": {},
     "output_type": "display_data"
    }
   ],
   "source": [
    "threemonth_metrics.plot(x='release_date')"
   ]
  },
  {
   "cell_type": "code",
   "execution_count": 7,
   "metadata": {
    "collapsed": false,
    "scrolled": true
   },
   "outputs": [],
   "source": [
    "daily_metrics_May04 = pd.DataFrame.from_csv(\"raw_data/daily-totals_2016-05-04.csv\", index_col=None, parse_dates=[0])\n",
    "daily_metrics_Apr24 = pd.DataFrame.from_csv(\"raw_data/daily-totals_2016-04-24.csv\", index_col=None, parse_dates=[0])\n",
    "daily_metrics_Apr17 = pd.DataFrame.from_csv(\"raw_data/daily-totals_2016-04-17.csv\", index_col=None, parse_dates=[0])\n",
    "daily_metrics_Apr12 = pd.DataFrame.from_csv(\"raw_data/daily-totals_2016-04-12.csv\", index_col=None, parse_dates=[0])\n",
    "daily_metrics_Apr04 = pd.DataFrame.from_csv(\"raw_data/daily-totals_2016-04-04.csv\", index_col=None, parse_dates=[0])"
   ]
  },
  {
   "cell_type": "code",
   "execution_count": 8,
   "metadata": {
    "collapsed": false
   },
   "outputs": [],
   "source": [
    "dates = daily_metrics_May04.date\n",
    "dates = pd.to_datetime(dates)\n",
    "start = dates[0]\n",
    "periods = dates - start\n",
    "periods_days = periods / np.timedelta64(1, 'D')"
   ]
  },
  {
   "cell_type": "code",
   "execution_count": 9,
   "metadata": {
    "collapsed": false
   },
   "outputs": [
    {
     "name": "stdout",
     "output_type": "stream",
     "text": [
      "a= 6.608984696648359, b=-0.009631501994967337, c=37.28750291326861\n"
     ]
    },
    {
     "data": {
      "text/html": [
       "<iframe id=\"igraph\" scrolling=\"no\" style=\"border:none;\" seamless=\"seamless\" src=\"https://plot.ly/~CoreyPetty/41.embed\" height=\"525px\" width=\"100%\"></iframe>"
      ],
      "text/plain": [
       "<plotly.tools.PlotlyDisplay object>"
      ]
     },
     "execution_count": 9,
     "metadata": {},
     "output_type": "execute_result"
    }
   ],
   "source": [
    "import matplotlib.dates as mdates\n",
    "from scipy.optimize import curve_fit\n",
    "def exponenial_func(x, a, b, c):\n",
    "    return a*np.exp(-b*x)+c\n",
    "\n",
    "x = periods_days\n",
    "y = daily_metrics_May04.total_downloads\n",
    "popt, pcov = curve_fit(exponenial_func, x, y, p0=(1, 1e-6, 1))\n",
    "print(\"a= {}, b={}, c={}\".format(*popt))\n",
    "\n",
    "xx = np.linspace(1, 400, 1000)\n",
    "yy = exponenial_func(xx, *popt)\n",
    "\n",
    "\n",
    "\n",
    "trace = go.Scatter(\n",
    "    x=x, \n",
    "    y=daily_metrics_May04.total_downloads,\n",
    "    name='Daily downloads',\n",
    ")\n",
    "trace2 = go.Scatter(\n",
    "                  x=xx, \n",
    "                  y=yy, \n",
    "                  mode='lines',\n",
    "                  marker=go.Marker(color='rgb(31, 119, 180)'),\n",
    "                  name='Fit'\n",
    "                  )\n",
    "\n",
    "annotation = go.Annotation(\n",
    "                  x=200,\n",
    "                  y=400,\n",
    "                  text='$\\\\textbf{Fit}: 14.06e^{-0.007181x} - 26.48$',\n",
    "                  showarrow=False\n",
    "                  )\n",
    "data = [trace, trace2]\n",
    "layout = go.Layout(\n",
    "    title=\"The Bitcoin Podcast daily downloads (updated May 4, 2016)\",\n",
    "    xaxis=go.XAxis(\n",
    "        title='Date',\n",
    "    ),\n",
    "    yaxis=go.YAxis(\n",
    "        title='Number of downloads',\n",
    "    ),\n",
    "#     shapes=shape_data,\n",
    "    annotations=[annotation],\n",
    ")\n",
    "fig = go.Figure(data=data, layout=layout)\n",
    "\n",
    "py.iplot(fig, filename=\"TBP_plots/daily_downloads-exp_fit\")"
   ]
  },
  {
   "cell_type": "code",
   "execution_count": 69,
   "metadata": {
    "collapsed": false
   },
   "outputs": [
    {
     "data": {
      "text/plain": [
       "array([  1.25832377e+01,   2.52777880e-03,   1.96052393e+01])"
      ]
     },
     "execution_count": 69,
     "metadata": {},
     "output_type": "execute_result"
    }
   ],
   "source": [
    "perr = np.sqrt(np.diag(pcov))\n",
    "perr"
   ]
  },
  {
   "cell_type": "code",
   "execution_count": 11,
   "metadata": {
    "collapsed": false
   },
   "outputs": [
    {
     "data": {
      "text/html": [
       "<iframe id=\"igraph\" scrolling=\"no\" style=\"border:none;\" seamless=\"seamless\" src=\"https://plot.ly/~CoreyPetty/28.embed\" height=\"525px\" width=\"100%\"></iframe>"
      ],
      "text/plain": [
       "<plotly.tools.PlotlyDisplay object>"
      ]
     },
     "execution_count": 11,
     "metadata": {},
     "output_type": "execute_result"
    }
   ],
   "source": [
    "trace = go.Scatter(x=daily_metrics_May04.date, y=daily_metrics_May04.total_downloads)\n",
    "# Get Dataframe of release dates\n",
    "episodes = pd.DataFrame.from_csv('/Users/coreypetty/PycharmProjects/TBP_metrics/raw_data/three-month-export_2016-05-04.csv', \n",
    "                                            index_col=None, parse_dates=['release_date'])\n",
    "episodes = episodes[['release_date','item_title','downloads__total']]\n",
    "episodes.columns = ['release_date','title', 'downloads']\n",
    "release_dates = list(episodes.release_date)\n",
    "\n",
    "# Get ymax from total_downloads\n",
    "ymax = daily_metrics_May04.total_downloads.max()\n",
    "\n",
    "# Make function to fill in shape data\n",
    "def make_shape_data(release_date, ymax):\n",
    "    return {\n",
    "        'type': 'line',\n",
    "        'x0': release_date,\n",
    "        'y0': 0,\n",
    "        'x1': release_date,\n",
    "        'y1': ymax,\n",
    "        'line': {\n",
    "                'color': 'rgba(55, 128, 191, 0.3)',\n",
    "                'width': 1,\n",
    "                },\n",
    "        }\n",
    "# Make lines shape data for each release date\n",
    "shape_data = []\n",
    "for release_date in release_dates:\n",
    "    shape_data.append(make_shape_data(release_date, ymax))\n",
    "\n",
    "layout = {\n",
    "    'title': \"The Bitcoin Podcast daily downloads (updated May 04, 2016)\",\n",
    "    'xaxis': {\n",
    "        'title': 'Date',\n",
    "    },\n",
    "    'yaxis': {\n",
    "        'title': 'Number of downloads',\n",
    "    },\n",
    "    'shapes': shape_data\n",
    "}\n",
    "\n",
    "data = [trace]\n",
    "fig = {\n",
    "    'data': data,\n",
    "    'layout': layout,\n",
    "}\n",
    "#iplot(fig) # offline\n",
    "py.iplot(fig, filename='TBP_plots/daily_total-downloads') # update online"
   ]
  },
  {
   "cell_type": "code",
   "execution_count": 19,
   "metadata": {
    "collapsed": false
   },
   "outputs": [],
   "source": [
    "daily_May04 = daily_metrics_May04.set_index('date')\n",
    "weekly_May04 = daily_May04.resample('W').sum()\n",
    "monthly_May04 = daily_May04.resample('M').sum()\n",
    "daily_Apr24 = daily_metrics_Apr24.set_index('date')\n",
    "monthly_Apr24 = daily_Apr24.resample('M').sum()\n",
    "daily_Apr17 = daily_metrics_Apr17.set_index('date')\n",
    "monthly_Apr17 = daily_Apr17.resample('M').sum()\n",
    "daily_Apr12 = daily_metrics_Apr12.set_index('date')\n",
    "monthly_Apr12 = daily_Apr12.resample('M').sum()\n",
    "daily_Apr04 = daily_metrics_Apr04.set_index('date')\n",
    "monthly_Apr04 = daily_Apr04.resample('M').sum()"
   ]
  },
  {
   "cell_type": "code",
   "execution_count": 27,
   "metadata": {
    "collapsed": false
   },
   "outputs": [
    {
     "data": {
      "text/html": [
       "<div id=\"1409b2b6-5203-47ee-9048-0f6baa330e17\" style=\"height: 587; width: 1116px;\" class=\"plotly-graph-div\"></div><script type=\"text/javascript\">require([\"plotly\"], function(Plotly) {window.PLOTLYENV=window.PLOTLYENV || {};window.PLOTLYENV.BASE_URL=\"https://plot.ly\";Plotly.newPlot(\"1409b2b6-5203-47ee-9048-0f6baa330e17\", [{\"text\": \"\", \"marker\": {\"line\": {\"color\": \"rgba(226, 74, 51, 1.0)\", \"width\": 1}, \"color\": \"rgba(226, 74, 51, 0.6)\"}, \"x\": [\"2015-06-07\", \"2015-06-14\", \"2015-06-21\", \"2015-06-28\", \"2015-07-05\", \"2015-07-12\", \"2015-07-19\", \"2015-07-26\", \"2015-08-02\", \"2015-08-09\", \"2015-08-16\", \"2015-08-23\", \"2015-08-30\", \"2015-09-06\", \"2015-09-13\", \"2015-09-20\", \"2015-09-27\", \"2015-10-04\", \"2015-10-11\", \"2015-10-18\", \"2015-10-25\", \"2015-11-01\", \"2015-11-08\", \"2015-11-15\", \"2015-11-22\", \"2015-11-29\", \"2015-12-06\", \"2015-12-13\", \"2015-12-20\", \"2015-12-27\", \"2016-01-03\", \"2016-01-10\", \"2016-01-17\", \"2016-01-24\", \"2016-01-31\", \"2016-02-07\", \"2016-02-14\", \"2016-02-21\", \"2016-02-28\", \"2016-03-06\", \"2016-03-13\", \"2016-03-20\", \"2016-03-27\", \"2016-04-03\", \"2016-04-10\", \"2016-04-17\", \"2016-04-24\", \"2016-05-01\", \"2016-05-08\"], \"y\": [276.0, 253.0, 268.0, 293.0, 386.0, 265.0, 294.0, 373.0, 305.0, 419.0, 643.0, 625.0, 634.0, 298.0, 258.0, 450.0, 318.0, 272.0, 241.0, 294.0, 250.0, 234.0, 636.0, 408.0, 546.0, 455.0, 596.0, 529.0, 465.0, 354.0, 702.0, 677.0, 905.0, 783.0, 733.0, 749.0, 1110.0, 1358.0, 880.0, 945.0, 809.0, 933.0, 556.0, 1265.0, 870.0, 1316.0, 1425.0, 933.0, 1250.0], \"orientation\": \"v\", \"type\": \"bar\", \"name\": \"total_downloads\"}], {\"plot_bgcolor\": \"#E5E5E5\", \"paper_bgcolor\": \"#FFFFFF\", \"yaxis1\": {\"zerolinecolor\": \"#F6F6F6\", \"showgrid\": true, \"titlefont\": {\"color\": \"#666666\"}, \"gridcolor\": \"#F6F6F6\", \"title\": \"Weekly downloads\", \"tickfont\": {\"color\": \"#666666\"}}, \"titlefont\": {\"color\": \"#151516\"}, \"legend\": {\"font\": {\"color\": \"#666666\"}, \"bgcolor\": \"#FFFFFF\"}, \"xaxis1\": {\"zerolinecolor\": \"#F6F6F6\", \"showgrid\": true, \"titlefont\": {\"color\": \"#666666\"}, \"gridcolor\": \"#F6F6F6\", \"title\": \"\", \"tickfont\": {\"color\": \"#666666\"}}, \"height\": 587, \"title\": \"The Bitcoin Podcast weekly downloads  (updated May 4, 2016)\", \"width\": 1116}, {\"linkText\": \"Export to plot.ly\", \"showLink\": true})});</script>"
      ],
      "text/plain": [
       "<IPython.core.display.HTML object>"
      ]
     },
     "metadata": {},
     "output_type": "execute_result"
    }
   ],
   "source": [
    "weekly_May04.iplot(kind=\"bar\", filename='TBP_plots/downloads-weekly',\n",
    "        title='The Bitcoin Podcast weekly downloads  (updated May 4, 2016)',\n",
    "        yTitle='Weekly downloads')"
   ]
  },
  {
   "cell_type": "code",
   "execution_count": 18,
   "metadata": {
    "collapsed": false
   },
   "outputs": [
    {
     "data": {
      "text/html": [
       "<div id=\"454fec9e-09f1-40e0-b824-1d261732c048\" style=\"height: 587; width: 1116px;\" class=\"plotly-graph-div\"></div><script type=\"text/javascript\">require([\"plotly\"], function(Plotly) {window.PLOTLYENV=window.PLOTLYENV || {};window.PLOTLYENV.BASE_URL=\"https://plot.ly\";Plotly.newPlot(\"454fec9e-09f1-40e0-b824-1d261732c048\", [{\"text\": \"\", \"marker\": {\"line\": {\"color\": \"rgba(226, 74, 51, 1.0)\", \"width\": 1}, \"color\": \"rgba(226, 74, 51, 0.6)\"}, \"x\": [\"May\", \"June\", \"July\", \"August\", \"September\", \"October\", \"November\", \"January\", \"February\", \"March\", \"April\", \"May \"], \"y\": [1227.0, 1446.0, 2490.0, 1382.0, 1090.0, 2240.0, 2197.0, 3366.0, 4373.0, 3842.0, 4785.0, 1399.0], \"orientation\": \"v\", \"type\": \"bar\", \"name\": \"total_downloads\"}], {\"plot_bgcolor\": \"#E5E5E5\", \"paper_bgcolor\": \"#FFFFFF\", \"yaxis1\": {\"zerolinecolor\": \"#F6F6F6\", \"showgrid\": true, \"titlefont\": {\"color\": \"#666666\"}, \"gridcolor\": \"#F6F6F6\", \"title\": \"Total downloads\", \"tickfont\": {\"color\": \"#666666\"}}, \"titlefont\": {\"color\": \"#151516\"}, \"legend\": {\"font\": {\"color\": \"#666666\"}, \"bgcolor\": \"#FFFFFF\"}, \"xaxis1\": {\"zerolinecolor\": \"#F6F6F6\", \"showgrid\": true, \"titlefont\": {\"color\": \"#666666\"}, \"gridcolor\": \"#F6F6F6\", \"title\": \"\", \"tickfont\": {\"color\": \"#666666\"}}, \"height\": 587, \"title\": \"The Bitcoin Podcast monthly downloads  (updated May 4, 2016)\", \"width\": 1116}, {\"linkText\": \"Export to plot.ly\", \"showLink\": true})});</script>"
      ],
      "text/plain": [
       "<IPython.core.display.HTML object>"
      ]
     },
     "metadata": {},
     "output_type": "execute_result"
    }
   ],
   "source": [
    "#  Sort and plot by month\n",
    "months={0:\"January\", 1:\"February\", 2:\"March\", 3:\"April\", 45:\"May\", 46:\"May \", 5:\"June\", 6:\"July\", 7:\"August\", 8:\"September\", 9:\"October\", 10:\"November\", 11:\"December\"}\n",
    "years={5:\"2015\", 6:\"2016\"}\n",
    "#  Relabel to month name\n",
    "ts = pd.DataFrame(monthly_May04).set_index(pd.Series([45,5,6,7,8,9,10,0,1,2,3,46]).apply(lambda x: months[x]))\n",
    "#  Plot\n",
    "ts.iplot(kind=\"bar\", filename='TBP_plots/downloads-monthly',\n",
    "        title='The Bitcoin Podcast monthly downloads  (updated May 4, 2016)',\n",
    "        yTitle='Total downloads')"
   ]
  },
  {
   "cell_type": "code",
   "execution_count": 5,
   "metadata": {
    "collapsed": false
   },
   "outputs": [
    {
     "data": {
      "text/plain": [
       "<matplotlib.axes._subplots.AxesSubplot at 0x1173f13c8>"
      ]
     },
     "execution_count": 5,
     "metadata": {},
     "output_type": "execute_result"
    },
    {
     "data": {
      "image/png": "[encoded data removed]",
      "text/plain": [
       "<matplotlib.figure.Figure at 0x11738b160>"
      ]
     },
     "metadata": {},
     "output_type": "display_data"
    }
   ],
   "source": [
    "#  Sort and plot by month\n",
    "months={0:\"January\", 1:\"February\", 2:\"March\", 3:\"April\", 4:\"May\", 5:\"June\", 6:\"July\", 7:\"August\", 8:\"September\", 9:\"October\", 10:\"November\", 11:\"December\"}\n",
    "daily_Apr17 = daily_metrics_Apr17.set_index('date')\n",
    "daily_Apr12 = daily_metrics_Apr12.set_index('date')\n",
    "daily_Apr04 = daily_metrics_Apr04.set_index('date')\n",
    "ts = daily_Apr17.total_downloads.resample('M').sum()\n",
    "ts_old = daily_Apr12.total_downloads.resample('M').sum()\n",
    "#  Relabel to month name\n",
    "ts = pd.DataFrame(ts).set_index(pd.Series([4,5,6,7,8,9,10,0,1,2,3]).apply(lambda x: months[x]))\n",
    "ts.columns = ['total_downloads_Apr17']\n",
    "ts_old = pd.DataFrame(ts_old).set_index(pd.Series([4,5,6,7,8,9,10,0,1,2,3]).apply(lambda x: months[x]))\n",
    "ts_old.columns = ['total_downloads_Apr12']\n",
    "#  Merge\n",
    "compared = pd.merge(ts_old, ts, left_index=True, right_index=True)\n",
    "#  Plot\n",
    "compared.plot(kind='bar', figsize=(10,10))"
   ]
  },
  {
   "cell_type": "code",
   "execution_count": null,
   "metadata": {
    "collapsed": true
   },
   "outputs": [],
   "source": [
    ""
   ]
  }
 ],
 "metadata": {
  "kernelspec": {
   "display_name": "Python 3",
   "language": "python",
   "name": "python3"
  },
  "language_info": {
   "codemirror_mode": {
    "name": "ipython",
    "version": 3.0
   },
   "file_extension": ".py",
   "mimetype": "text/x-python",
   "name": "python",
   "nbconvert_exporter": "python",
   "pygments_lexer": "ipython3",
   "version": "3.5.1"
  }
 },
 "nbformat": 4,
 "nbformat_minor": 0
}