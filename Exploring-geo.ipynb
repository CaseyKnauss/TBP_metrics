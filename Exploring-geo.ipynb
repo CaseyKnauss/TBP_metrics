{
 "cells": [
  {
   "cell_type": "code",
   "execution_count": 152,
   "metadata": {
    "collapsed": true
   },
   "outputs": [],
   "source": [
    "from plotly import __version__\n",
    "# from plotly.offline import download_plotlyjs, init_notebook_mode, iplot\n",
    "# from plotly.offline import plot\n",
    "from plotly.plotly import iplot, plot\n",
    "from plotly.graph_objs import Scatter\n",
    "#init_notebook_mode() # run at the start of every ipython notebook to use plotly.offline\n",
    "                     # this injects the plotly.js source files into the notebook\n",
    "\n",
    "%matplotlib inline\n",
    "import matplotlib as plt\n",
    "plt.style.use('ggplot')\n",
    "import pandas as pd\n",
    "import numpy as np\n",
    "from datetime import datetime\n",
    "import plotly.plotly as py\n",
    "import plotly.graph_objs as go\n",
    "import cufflinks as cf\n",
    "cf.set_config_file(offline=False, world_readable=True, theme='ggplot')"
   ]
  },
  {
   "cell_type": "code",
   "execution_count": 140,
   "metadata": {
    "collapsed": false
   },
   "outputs": [
    {
     "data": {
      "text/plain": [
       "dict_keys(['white', 'ggplot', 'pearl', 'polar', 'solar', 'space'])"
      ]
     },
     "execution_count": 140,
     "metadata": {},
     "output_type": "execute_result"
    }
   ],
   "source": [
    "cf.themes.THEMES.keys()"
   ]
  },
  {
   "cell_type": "code",
   "execution_count": 142,
   "metadata": {
    "collapsed": false
   },
   "outputs": [],
   "source": [
    "cf.go_offline()"
   ]
  },
  {
   "cell_type": "code",
   "execution_count": 128,
   "metadata": {
    "collapsed": true
   },
   "outputs": [],
   "source": [
    "markets_csv = '/Users/coreypetty/PycharmProjects/TBP_metrics/raw_data/us-markets_2016-06-25.csv'\n",
    "world_csv = '/Users/coreypetty/PycharmProjects/TBP_metrics/raw_data/world-markets_2016-06-25.csv'\n",
    "states_csv = '/Users/coreypetty/PycharmProjects/TBP_metrics/raw_data/us-states_2016-06-25.csv'"
   ]
  },
  {
   "cell_type": "code",
   "execution_count": 101,
   "metadata": {
    "collapsed": true
   },
   "outputs": [],
   "source": [
    "markets = pd.DataFrame.from_csv(markets_csv)\n",
    "markets['perc'] = markets.total_downloads / markets.total_downloads.sum() * 100"
   ]
  },
  {
   "cell_type": "code",
   "execution_count": 117,
   "metadata": {
    "collapsed": false
   },
   "outputs": [],
   "source": [
    "markets.reset_index(inplace=True)\n",
    "markets['grouping'] = np.where(markets.perc <= 2, 'other', markets.market)"
   ]
  },
  {
   "cell_type": "code",
   "execution_count": 121,
   "metadata": {
    "collapsed": false
   },
   "outputs": [
    {
     "data": {
      "text/html": [
       "<iframe id=\"igraph\" scrolling=\"no\" style=\"border:none;\" seamless=\"seamless\" src=\"https://plot.ly/~CoreyPetty/91.embed\" height=\"587px\" width=\"1116px\"></iframe>"
      ],
      "text/plain": [
       "<plotly.tools.PlotlyDisplay object>"
      ]
     },
     "execution_count": 121,
     "metadata": {},
     "output_type": "execute_result"
    }
   ],
   "source": [
    "markets.groupby('grouping').sum().reset_index().iplot(kind='pie', labels='grouping', values='total_downloads', \n",
    "                                                      filename='TBP_plots/US-markets-pie',\n",
    "                                                      title='US Markets Download Breakdown'\n",
    "                                                     )"
   ]
  },
  {
   "cell_type": "code",
   "execution_count": 126,
   "metadata": {
    "collapsed": false
   },
   "outputs": [],
   "source": [
    "states = pd.DataFrame.from_csv(states_csv)\n",
    "states['perc'] = states.total_downloads / states.total_downloads.sum() * 100\n",
    "states.reset_index(inplace=True)\n",
    "states['grouping'] = np.where(states.perc <= 2, 'other', states.region)"
   ]
  },
  {
   "cell_type": "code",
   "execution_count": 127,
   "metadata": {
    "collapsed": false
   },
   "outputs": [
    {
     "data": {
      "text/html": [
       "<iframe id=\"igraph\" scrolling=\"no\" style=\"border:none;\" seamless=\"seamless\" src=\"https://plot.ly/~CoreyPetty/93.embed\" height=\"587px\" width=\"1116px\"></iframe>"
      ],
      "text/plain": [
       "<plotly.tools.PlotlyDisplay object>"
      ]
     },
     "execution_count": 127,
     "metadata": {},
     "output_type": "execute_result"
    }
   ],
   "source": [
    "states.groupby('grouping').sum().reset_index().iplot(kind='pie', labels='grouping', values='total_downloads', \n",
    "                                                      filename='TBP_plots/US-states-pie',\n",
    "                                                      title='US States Download Breakdown'\n",
    "                                                     )"
   ]
  },
  {
   "cell_type": "code",
   "execution_count": 132,
   "metadata": {
    "collapsed": false
   },
   "outputs": [],
   "source": [
    "world = pd.DataFrame.from_csv(world_csv)\n",
    "world['perc'] = world.total_downloads / world.total_downloads.sum() * 100\n",
    "world.reset_index(inplace=True)\n",
    "world['grouping'] = np.where(world.perc <= 2, 'other', world.country_name)"
   ]
  },
  {
   "cell_type": "code",
   "execution_count": 153,
   "metadata": {
    "collapsed": false
   },
   "outputs": [
    {
     "data": {
      "text/html": [
       "<div id=\"4f20f4dc-44ff-48f3-893d-726d118294f5\" style=\"height: 587; width: 1116px;\" class=\"plotly-graph-div\"></div><script type=\"text/javascript\">require([\"plotly\"], function(Plotly) {window.PLOTLYENV=window.PLOTLYENV || {};window.PLOTLYENV.BASE_URL=\"https://plot.ly\";Plotly.newPlot(\"4f20f4dc-44ff-48f3-893d-726d118294f5\", [{\"name\": \"\", \"marker\": {\"colors\": [\"rgba(226, 74, 51, 1.0)\", \"rgba(62, 111, 176, 1.0)\", \"rgba(132, 118, 202, 1.0)\", \"rgba(101, 101, 101, 1.0)\", \"rgba(251, 193, 94, 1.0)\", \"rgba(142, 186, 66, 1.0)\", \"rgba(255, 181, 184, 1.0)\", \"rgba(255, 181, 184, 0.89999999999999991)\"]}, \"type\": \"pie\", \"values\": [1035, 1425, 1792, 1405, 1035, 2983, 24184, 10319], \"labels\": [\"Anonymous Proxy\", \"Australia\", \"Canada\", \"Germany\", \"Sweden\", \"United Kingdom\", \"United States\", \"other\"]}], {\"legend\": {\"bgcolor\": \"#FFFFFF\", \"font\": {\"color\": \"#666666\"}}, \"title\": \"Country Download Breakdown\", \"plot_bgcolor\": \"#E5E5E5\", \"height\": 587, \"paper_bgcolor\": \"#FFFFFF\", \"width\": 1116, \"titlefont\": {\"color\": \"#151516\"}}, {\"showLink\": true, \"linkText\": \"Export to plot.ly\"})});</script>"
      ],
      "text/plain": [
       "<IPython.core.display.HTML object>"
      ]
     },
     "metadata": {},
     "output_type": "display_data"
    }
   ],
   "source": [
    "world.groupby('grouping').sum().reset_index().iplot(kind='pie', labels='grouping', values='total_downloads', \n",
    "                                                      filename='TBP_plots/world-pie',\n",
    "                                                      title='Country Download Breakdown'\n",
    "                                                     )"
   ]
  },
  {
   "cell_type": "code",
   "execution_count": null,
   "metadata": {
    "collapsed": true
   },
   "outputs": [],
   "source": []
  }
 ],
 "metadata": {
  "kernelspec": {
   "display_name": "Python 3",
   "language": "python",
   "name": "python3"
  },
  "language_info": {
   "codemirror_mode": {
    "name": "ipython",
    "version": 3
   },
   "file_extension": ".py",
   "mimetype": "text/x-python",
   "name": "python",
   "nbconvert_exporter": "python",
   "pygments_lexer": "ipython3",
   "version": "3.5.1"
  }
 },
 "nbformat": 4,
 "nbformat_minor": 0
}
