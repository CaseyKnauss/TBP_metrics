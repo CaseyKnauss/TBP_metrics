{
 "cells": [
  {
   "cell_type": "code",
   "execution_count": 6,
   "metadata": {
    "collapsed": false
   },
   "outputs": [
    {
     "data": {
      "text/html": [
       "\n",
       "           <script>\n",
       "               \n",
       "                function vct_load_lib(url, callback){\n",
       "                      if(typeof d3 !== 'undefined' &&\n",
       "                         url === 'http://d3js.org/d3.v3.min.js'){\n",
       "                        callback()\n",
       "                      }\n",
       "                      var s = document.createElement('script');\n",
       "                      s.src = url;\n",
       "                      s.async = true;\n",
       "                      s.onreadystatechange = s.onload = callback;\n",
       "                      s.onerror = function(){\n",
       "                        console.warn(\"failed to load library \" + url);\n",
       "                        };\n",
       "                      document.getElementsByTagName(\"head\")[0].appendChild(s);\n",
       "                };\n",
       "                var vincent_event = new CustomEvent(\n",
       "                  \"vincent_libs_loaded\",\n",
       "                  {bubbles: true, cancelable: true}\n",
       "                );\n",
       "                \n",
       "               function load_all_libs(){\n",
       "                  console.log('Loading Vincent libs...')\n",
       "                  vct_load_lib('http://d3js.org/d3.v3.min.js', function(){\n",
       "                  vct_load_lib('http://d3js.org/d3.geo.projection.v0.min.js', function(){\n",
       "                  vct_load_lib('http://wrobstory.github.io/d3-cloud/d3.layout.cloud.js', function(){\n",
       "                  vct_load_lib('http://wrobstory.github.io/vega/vega.v1.3.3.js', function(){\n",
       "                  window.dispatchEvent(vincent_event);\n",
       "                  });\n",
       "                  });\n",
       "                  });\n",
       "                  });\n",
       "               };\n",
       "               if(typeof define === \"function\" && define.amd){\n",
       "                    if (window['d3'] === undefined ||\n",
       "                        window['topojson'] === undefined){\n",
       "                        require.config(\n",
       "                            {paths: {\n",
       "                              d3: 'http://d3js.org/d3.v3.min',\n",
       "                              topojson: 'http://d3js.org/topojson.v1.min'\n",
       "                              }\n",
       "                            }\n",
       "                          );\n",
       "                        require([\"d3\"], function(d3){\n",
       "                            console.log('Loading Vincent from require.js...')\n",
       "                            window.d3 = d3;\n",
       "                            require([\"topojson\"], function(topojson){\n",
       "                                window.topojson = topojson;\n",
       "                                load_all_libs();\n",
       "                            });\n",
       "                        });\n",
       "                    } else {\n",
       "                        load_all_libs();\n",
       "                    };\n",
       "               }else{\n",
       "                    console.log('Require.js not found, loading manually...')\n",
       "                    load_all_libs();\n",
       "               };\n",
       "\n",
       "           </script>"
      ],
      "text/plain": [
       "<IPython.core.display.HTML object>"
      ]
     },
     "metadata": {},
     "output_type": "execute_result"
    }
   ],
   "source": [
    "%matplotlib inline\n",
    "import matplotlib as plt\n",
    "import pandas as pd\n",
    "from datetime import datetime\n",
    "import geoplotlib\n",
    "import vincent\n",
    "from vincent import AxisProperties, ValueRef, PropertySet\n",
    "vincent.core.initialize_notebook()"
   ]
  },
  {
   "cell_type": "code",
   "execution_count": 2,
   "metadata": {
    "collapsed": false
   },
   "outputs": [
    {
     "data": {
      "text/html": [
       "<style>body {\n",
       "    margin: 0;\n",
       "    font-family: Helvetica;\n",
       "}\n",
       "table.dataframe {\n",
       "    border-collapse: collapse;\n",
       "    border: none;\n",
       "}\n",
       "table.dataframe tr {\n",
       "    border: none;\n",
       "}\n",
       "table.dataframe td, table.dataframe th {\n",
       "    margin: 0;\n",
       "    border: 1px solid white;\n",
       "    padding-left: 0.25em;\n",
       "    padding-right: 0.25em;\n",
       "}\n",
       "table.dataframe th:not(:empty) {\n",
       "    background-color: #fec;\n",
       "    text-align: left;\n",
       "    font-weight: normal;\n",
       "}\n",
       "table.dataframe tr:nth-child(2) th:empty {\n",
       "    border-left: none;\n",
       "    border-right: 1px dashed #888;\n",
       "}\n",
       "table.dataframe td {\n",
       "    border: 2px solid #ccf;\n",
       "    background-color: #f4f4ff;\n",
       "}\n",
       "h3 {\n",
       "    color: white;\n",
       "    background-color: black;\n",
       "    padding: 0.5em;\n",
       "}\n",
       "\n",
       "html {\n",
       "  font-size: 62.5% !important; }\n",
       "body {\n",
       "  font-size: 1.5em !important; /* currently ems cause chrome bug misinterpreting rems on body element */\n",
       "  line-height: 1.6 !important;\n",
       "  font-weight: 400 !important;\n",
       "  font-family: \"Raleway\", \"HelveticaNeue\", \"Helvetica Neue\", Helvetica, Arial, sans-serif !important;\n",
       "  color: #222 !important; }\n",
       "\n",
       "div{ border-radius: 0px !important;  }\n",
       "div.CodeMirror-sizer{ background: rgb(244, 244, 248) !important; }\n",
       "div.input_area{ background: rgb(244, 244, 248) !important; }\n",
       "\n",
       "div.out_prompt_overlay:hover{ background: rgb(244, 244, 248) !important; }\n",
       "div.input_prompt:hover{ background: rgb(244, 244, 248) !important; }\n",
       "\n",
       "h1, h2, h3, h4, h5, h6 {\n",
       "  color: #333 !important;\n",
       "  margin-top: 0 !important;\n",
       "  margin-bottom: 2rem !important;\n",
       "  font-weight: 300 !important; }\n",
       "h1 { font-size: 4.0rem !important; line-height: 1.2 !important;  letter-spacing: -.1rem !important;}\n",
       "h2 { font-size: 3.6rem !important; line-height: 1.25 !important; letter-spacing: -.1rem !important; }\n",
       "h3 { font-size: 3.0rem !important; line-height: 1.3 !important;  letter-spacing: -.1rem !important; }\n",
       "h4 { font-size: 2.4rem !important; line-height: 1.35 !important; letter-spacing: -.08rem !important; }\n",
       "h5 { font-size: 1.8rem !important; line-height: 1.5 !important;  letter-spacing: -.05rem !important; }\n",
       "h6 { font-size: 1.5rem !important; line-height: 1.6 !important;  letter-spacing: 0 !important; }\n",
       "\n",
       "@media (min-width: 550px) {\n",
       "  h1 { font-size: 5.0rem !important; }\n",
       "  h2 { font-size: 4.2rem !important; }\n",
       "  h3 { font-size: 3.6rem !important; }\n",
       "  h4 { font-size: 3.0rem !important; }\n",
       "  h5 { font-size: 2.4rem !important; }\n",
       "  h6 { font-size: 1.5rem !important; }\n",
       "}\n",
       "\n",
       "p {\n",
       "  margin-top: 0 !important; }\n",
       "\n",
       "a {\n",
       "  color: #1EAEDB !important; }\n",
       "a:hover {\n",
       "  color: #0FA0CE !important; }\n",
       "\n",
       "code {\n",
       "  padding: .2rem .5rem !important;\n",
       "  margin: 0 .2rem !important;\n",
       "  font-size: 90% !important;\n",
       "  white-space: nowrap !important;\n",
       "  background: #F1F1F1 !important;\n",
       "  border: 1px solid #E1E1E1 !important;\n",
       "  border-radius: 4px !important; }\n",
       "pre > code {\n",
       "  display: block !important;\n",
       "  padding: 1rem 1.5rem !important;\n",
       "  white-space: pre !important; }\n",
       "\n",
       "button{ border-radius: 0px !important; }\n",
       ".navbar-inner{ background-image: none !important;  }\n",
       "select, textarea{ border-radius: 0px !important; }\n",
       "</style>"
      ],
      "text/plain": [
       "<IPython.core.display.HTML object>"
      ]
     },
     "execution_count": 2,
     "metadata": {},
     "output_type": "execute_result"
    }
   ],
   "source": [
    "from IPython.core.display import HTML\n",
    "css = open(\"styles/style-table.css\").read() + open('styles/style-notebook.css').read() + open(\"styles/test.css\").read()\n",
    "HTML('<style>{}</style>'.format(css))"
   ]
  },
  {
   "cell_type": "code",
   "execution_count": 53,
   "metadata": {
    "collapsed": false
   },
   "outputs": [
    {
     "ename": "IndentationError",
     "evalue": "unexpected indent (<ipython-input-53-53c7c7358822>, line 2)",
     "output_type": "error",
     "traceback": [
      "\u001b[0;36m  File \u001b[0;32m\"<ipython-input-53-53c7c7358822>\"\u001b[0;36m, line \u001b[0;32m2\u001b[0m\n\u001b[0;31m    map_key={'countries': 'country_name'})\u001b[0m\n\u001b[0m    ^\u001b[0m\n\u001b[0;31mIndentationError\u001b[0m\u001b[0;31m:\u001b[0m unexpected indent\n"
     ]
    }
   ],
   "source": []
  },
  {
   "cell_type": "code",
   "execution_count": 98,
   "metadata": {
    "collapsed": false
   },
   "outputs": [
    {
     "data": {
      "text/html": [
       "<div id=\"vis719f99e2880c4f649c38314c1ed24508\"></div>\n",
       "<script>\n",
       "   ( function() {\n",
       "     var _do_plot = function() {\n",
       "       if (typeof vg === 'undefined') {\n",
       "         window.addEventListener('vincent_libs_loaded', _do_plot)\n",
       "         return;\n",
       "       }\n",
       "       vg.parse.spec({\"axes\": [{\"properties\": {\"labels\": {\"align\": {\"value\": \"left\"}, \"angle\": {\"value\": 90}}}, \"scale\": \"x\", \"type\": \"x\"}, {\"scale\": \"y\", \"type\": \"y\"}], \"data\": [{\"name\": \"table\", \"values\": [{\"col\": \"total_downloads\", \"idx\": 0, \"val\": 87}, {\"col\": \"total_downloads\", \"idx\": 1, \"val\": 3}, {\"col\": \"total_downloads\", \"idx\": 2, \"val\": 1}, {\"col\": \"total_downloads\", \"idx\": 3, \"val\": 61}, {\"col\": \"total_downloads\", \"idx\": 4, \"val\": 104}, {\"col\": \"total_downloads\", \"idx\": 5, \"val\": 772}, {\"col\": \"total_downloads\", \"idx\": 6, \"val\": 53}, {\"col\": \"total_downloads\", \"idx\": 7, \"val\": 1}, {\"col\": \"total_downloads\", \"idx\": 8, \"val\": 34}, {\"col\": \"total_downloads\", \"idx\": 9, \"val\": 1}, {\"col\": \"total_downloads\", \"idx\": 10, \"val\": 63}, {\"col\": \"total_downloads\", \"idx\": 11, \"val\": 43}, {\"col\": \"total_downloads\", \"idx\": 12, \"val\": 3}, {\"col\": \"total_downloads\", \"idx\": 13, \"val\": 2}, {\"col\": \"total_downloads\", \"idx\": 14, \"val\": 291}, {\"col\": \"total_downloads\", \"idx\": 15, \"val\": 1}, {\"col\": \"total_downloads\", \"idx\": 16, \"val\": 2}, {\"col\": \"total_downloads\", \"idx\": 17, \"val\": 875}, {\"col\": \"total_downloads\", \"idx\": 18, \"val\": 190}, {\"col\": \"total_downloads\", \"idx\": 19, \"val\": 85}, {\"col\": \"total_downloads\", \"idx\": 20, \"val\": 550}, {\"col\": \"total_downloads\", \"idx\": 21, \"val\": 22}, {\"col\": \"total_downloads\", \"idx\": 22, \"val\": 69}, {\"col\": \"total_downloads\", \"idx\": 23, \"val\": 2}, {\"col\": \"total_downloads\", \"idx\": 24, \"val\": 1}, {\"col\": \"total_downloads\", \"idx\": 25, \"val\": 35}, {\"col\": \"total_downloads\", \"idx\": 26, \"val\": 617}, {\"col\": \"total_downloads\", \"idx\": 27, \"val\": 46}, {\"col\": \"total_downloads\", \"idx\": 28, \"val\": 19}, {\"col\": \"total_downloads\", \"idx\": 29, \"val\": 6}, {\"col\": \"total_downloads\", \"idx\": 30, \"val\": 56}, {\"col\": \"total_downloads\", \"idx\": 31, \"val\": 2}, {\"col\": \"total_downloads\", \"idx\": 32, \"val\": 190}, {\"col\": \"total_downloads\", \"idx\": 33, \"val\": 1}, {\"col\": \"total_downloads\", \"idx\": 34, \"val\": 103}, {\"col\": \"total_downloads\", \"idx\": 35, \"val\": 213}, {\"col\": \"total_downloads\", \"idx\": 36, \"val\": 1479}, {\"col\": \"total_downloads\", \"idx\": 37, \"val\": 6}, {\"col\": \"total_downloads\", \"idx\": 38, \"val\": 2}, {\"col\": \"total_downloads\", \"idx\": 39, \"val\": 6}, {\"col\": \"total_downloads\", \"idx\": 40, \"val\": 37}, {\"col\": \"total_downloads\", \"idx\": 41, \"val\": 7}, {\"col\": \"total_downloads\", \"idx\": 42, \"val\": 4}, {\"col\": \"total_downloads\", \"idx\": 43, \"val\": 54}, {\"col\": \"total_downloads\", \"idx\": 44, \"val\": 22}, {\"col\": \"total_downloads\", \"idx\": 45, \"val\": 5}, {\"col\": \"total_downloads\", \"idx\": 46, \"val\": 22}, {\"col\": \"total_downloads\", \"idx\": 47, \"val\": 103}, {\"col\": \"total_downloads\", \"idx\": 48, \"val\": 46}, {\"col\": \"total_downloads\", \"idx\": 49, \"val\": 2}, {\"col\": \"total_downloads\", \"idx\": 50, \"val\": 529}, {\"col\": \"total_downloads\", \"idx\": 51, \"val\": 10}, {\"col\": \"total_downloads\", \"idx\": 52, \"val\": 163}, {\"col\": \"total_downloads\", \"idx\": 53, \"val\": 2}, {\"col\": \"total_downloads\", \"idx\": 54, \"val\": 285}, {\"col\": \"total_downloads\", \"idx\": 55, \"val\": 77}, {\"col\": \"total_downloads\", \"idx\": 56, \"val\": 12}, {\"col\": \"total_downloads\", \"idx\": 57, \"val\": 9}, {\"col\": \"total_downloads\", \"idx\": 58, \"val\": 68}, {\"col\": \"total_downloads\", \"idx\": 59, \"val\": 1}, {\"col\": \"total_downloads\", \"idx\": 60, \"val\": 1}, {\"col\": \"total_downloads\", \"idx\": 61, \"val\": 2}, {\"col\": \"total_downloads\", \"idx\": 62, \"val\": 11}, {\"col\": \"total_downloads\", \"idx\": 63, \"val\": 6}, {\"col\": \"total_downloads\", \"idx\": 64, \"val\": 49}, {\"col\": \"total_downloads\", \"idx\": 65, \"val\": 9}, {\"col\": \"total_downloads\", \"idx\": 66, \"val\": 25}, {\"col\": \"total_downloads\", \"idx\": 67, \"val\": 3}, {\"col\": \"total_downloads\", \"idx\": 68, \"val\": 2}, {\"col\": \"total_downloads\", \"idx\": 69, \"val\": 1}, {\"col\": \"total_downloads\", \"idx\": 70, \"val\": 120}, {\"col\": \"total_downloads\", \"idx\": 71, \"val\": 25}, {\"col\": \"total_downloads\", \"idx\": 72, \"val\": 115}, {\"col\": \"total_downloads\", \"idx\": 73, \"val\": 30}, {\"col\": \"total_downloads\", \"idx\": 74, \"val\": 249}, {\"col\": \"total_downloads\", \"idx\": 75, \"val\": 182}, {\"col\": \"total_downloads\", \"idx\": 76, \"val\": 84}, {\"col\": \"total_downloads\", \"idx\": 77, \"val\": 1}, {\"col\": \"total_downloads\", \"idx\": 78, \"val\": 2}, {\"col\": \"total_downloads\", \"idx\": 79, \"val\": 3}, {\"col\": \"total_downloads\", \"idx\": 80, \"val\": 36}, {\"col\": \"total_downloads\", \"idx\": 81, \"val\": 7}, {\"col\": \"total_downloads\", \"idx\": 82, \"val\": 31}, {\"col\": \"total_downloads\", \"idx\": 83, \"val\": 17}, {\"col\": \"total_downloads\", \"idx\": 84, \"val\": 14}, {\"col\": \"total_downloads\", \"idx\": 85, \"val\": 1}, {\"col\": \"total_downloads\", \"idx\": 86, \"val\": 1}, {\"col\": \"total_downloads\", \"idx\": 87, \"val\": 51}, {\"col\": \"total_downloads\", \"idx\": 88, \"val\": 9}, {\"col\": \"total_downloads\", \"idx\": 89, \"val\": 40}, {\"col\": \"total_downloads\", \"idx\": 90, \"val\": 1}, {\"col\": \"total_downloads\", \"idx\": 91, \"val\": 21}, {\"col\": \"total_downloads\", \"idx\": 92, \"val\": 1}, {\"col\": \"total_downloads\", \"idx\": 93, \"val\": 326}, {\"col\": \"total_downloads\", \"idx\": 94, \"val\": 130}, {\"col\": \"total_downloads\", \"idx\": 95, \"val\": 71}, {\"col\": \"total_downloads\", \"idx\": 96, \"val\": 27}, {\"col\": \"total_downloads\", \"idx\": 97, \"val\": 1}, {\"col\": \"total_downloads\", \"idx\": 98, \"val\": 5}, {\"col\": \"total_downloads\", \"idx\": 99, \"val\": 1}, {\"col\": \"total_downloads\", \"idx\": 100, \"val\": 59}, {\"col\": \"total_downloads\", \"idx\": 101, \"val\": 1}, {\"col\": \"total_downloads\", \"idx\": 102, \"val\": 8}, {\"col\": \"total_downloads\", \"idx\": 103, \"val\": 12}, {\"col\": \"total_downloads\", \"idx\": 104, \"val\": 24}, {\"col\": \"total_downloads\", \"idx\": 105, \"val\": 158}, {\"col\": \"total_downloads\", \"idx\": 106, \"val\": 5}, {\"col\": \"total_downloads\", \"idx\": 107, \"val\": 13275}, {\"col\": \"total_downloads\", \"idx\": 108, \"val\": 9}, {\"col\": \"total_downloads\", \"idx\": 109, \"val\": 2}, {\"col\": \"total_downloads\", \"idx\": 110, \"val\": 15}, {\"col\": \"total_downloads\", \"idx\": 111, \"val\": 118}, {\"col\": \"total_downloads\", \"idx\": 112, \"val\": 1}]}, {\"name\": \"stats\", \"source\": \"table\", \"transform\": [{\"keys\": [\"data.idx\"], \"type\": \"facet\"}, {\"type\": \"stats\", \"value\": \"data.val\"}]}], \"height\": 400, \"legends\": [], \"marks\": [{\"from\": {\"data\": \"table\", \"transform\": [{\"keys\": [\"data.col\"], \"type\": \"facet\"}, {\"height\": \"data.val\", \"point\": \"data.idx\", \"type\": \"stack\"}]}, \"marks\": [{\"properties\": {\"enter\": {\"fill\": {\"field\": \"data.col\", \"scale\": \"color\"}, \"width\": {\"band\": true, \"offset\": -1, \"scale\": \"x\"}, \"x\": {\"field\": \"data.idx\", \"scale\": \"x\"}, \"y\": {\"field\": \"y\", \"scale\": \"y\"}, \"y2\": {\"field\": \"y2\", \"scale\": \"y\"}}}, \"type\": \"rect\"}], \"type\": \"group\"}], \"padding\": \"auto\", \"scales\": [{\"domain\": {\"data\": \"table\", \"field\": \"data.idx\"}, \"name\": \"x\", \"range\": \"width\", \"type\": \"ordinal\", \"zero\": false}, {\"domain\": {\"data\": \"stats\", \"field\": \"sum\"}, \"name\": \"y\", \"nice\": true, \"range\": \"height\"}, {\"domain\": {\"data\": \"table\", \"field\": \"data.col\"}, \"name\": \"color\", \"range\": \"category20\", \"type\": \"ordinal\"}], \"width\": 1500}, function(chart) {\n",
       "         chart({el: \"#vis719f99e2880c4f649c38314c1ed24508\"}).update();\n",
       "       });\n",
       "     };\n",
       "     _do_plot();\n",
       "   })();\n",
       "</script>\n",
       "<style>.vega canvas {width: 100%;}</style>\n",
       "        "
      ],
      "text/plain": [
       "<IPython.core.display.HTML object>"
      ]
     },
     "metadata": {},
     "output_type": "execute_result"
    }
   ],
   "source": [
    "#  Let's visualize the data we have with a barchart\n",
    "tbp_geo_data = pd.read_csv(\"/Users/coreypetty/PycharmProjects/TBP_metrics/raw_data/countries_2016-04-04-clean.csv\")\n",
    "# tbp_geo_data = tbp_geo_data.set_index('country_name')\n",
    "vis = vincent.Bar(tbp_geo_data, columns=['total_downloads'], height=400, width=1500)\n",
    "vis.axes[0].properties = AxisProperties(\n",
    "    labels=PropertySet(\n",
    "        angle=ValueRef(value=90),\n",
    "        align=ValueRef(value='left')\n",
    "        )\n",
    "    )\n",
    "# geo_data.head()\n",
    "vis.display()"
   ]
  },
  {
   "cell_type": "code",
   "execution_count": 80,
   "metadata": {
    "collapsed": false
   },
   "outputs": [
    {
     "data": {
      "text/html": [
       "<div id=\"vis98c87a9a361e4c51a4802d7e251fe729\"></div>\n",
       "<script>\n",
       "   ( function() {\n",
       "     var _do_plot = function() {\n",
       "       if (typeof vg === 'undefined') {\n",
       "         window.addEventListener('vincent_libs_loaded', _do_plot)\n",
       "         return;\n",
       "       }\n",
       "       vg.parse.spec({\"axes\": [], \"data\": [{\"format\": {\"feature\": \"world-countries\", \"type\": \"topojson\"}, \"name\": \"countries\", \"transform\": [{\"projection\": \"winkel3\", \"scale\": 200, \"translate\": [480.0, 250.0], \"type\": \"geopath\", \"value\": \"data\"}], \"url\": \"geo_data/vincent_map_data/world-countries.topo.json\"}], \"height\": 500, \"legends\": [], \"marks\": [{\"from\": {\"data\": \"countries\"}, \"properties\": {\"enter\": {\"path\": {\"field\": \"path\"}, \"stroke\": {\"value\": \"#000000\"}}, \"update\": {\"fill\": {\"value\": \"steelblue\"}}}, \"type\": \"path\"}], \"padding\": \"auto\", \"scales\": [], \"width\": 960}, function(chart) {\n",
       "         chart({el: \"#vis98c87a9a361e4c51a4802d7e251fe729\"}).update();\n",
       "       });\n",
       "     };\n",
       "     _do_plot();\n",
       "   })();\n",
       "</script>\n",
       "<style>.vega canvas {width: 100%;}</style>\n",
       "        "
      ],
      "text/plain": [
       "<IPython.core.display.HTML object>"
      ]
     },
     "metadata": {},
     "output_type": "execute_result"
    }
   ],
   "source": [
    "world_topo = \"geo_data/vincent_map_data/world-countries.topo.json\"\n",
    "geo_data = [{'name': 'countries',\n",
    "             'url': world_topo,\n",
    "             'feature': 'world-countries'}]\n",
    "\n",
    "vis = vincent.Map(data=tbp_geo_data, geo_data=geo_data, scale=200, \n",
    "          map_key={'country_name': 'total_downloads'})\n",
    "# vis.marks[0].properties.enter.stroke_opacity = ValueRef(value=0.5)\n",
    "# vis.to_json('vega.json')\n",
    "vis.display()"
   ]
  },
  {
   "cell_type": "code",
   "execution_count": 43,
   "metadata": {
    "collapsed": false
   },
   "outputs": [
    {
     "data": {
      "text/html": [
       "<div id=\"vise5e802b576a54eabbe28a09baa11c23f\"></div>\n",
       "<script>\n",
       "   ( function() {\n",
       "     var _do_plot = function() {\n",
       "       if (typeof vg === 'undefined') {\n",
       "         window.addEventListener('vincent_libs_loaded', _do_plot)\n",
       "         return;\n",
       "       }\n",
       "       vg.parse.spec({\"axes\": [{\"properties\": {\"labels\": {\"align\": {\"value\": \"left\"}, \"angle\": {\"value\": 90}}}, \"scale\": \"x\", \"type\": \"x\"}, {\"scale\": \"y\", \"type\": \"y\"}], \"data\": [{\"name\": \"table\", \"values\": [{\"col\": \"total_downloads\", \"idx\": 0, \"val\": 229}, {\"col\": \"total_downloads\", \"idx\": 1, \"val\": 1032}, {\"col\": \"total_downloads\", \"idx\": 2, \"val\": 87}, {\"col\": \"total_downloads\", \"idx\": 3, \"val\": 3}, {\"col\": \"total_downloads\", \"idx\": 4, \"val\": 1}, {\"col\": \"total_downloads\", \"idx\": 5, \"val\": 61}, {\"col\": \"total_downloads\", \"idx\": 6, \"val\": 104}, {\"col\": \"total_downloads\", \"idx\": 7, \"val\": 772}, {\"col\": \"total_downloads\", \"idx\": 8, \"val\": 53}, {\"col\": \"total_downloads\", \"idx\": 9, \"val\": 1}, {\"col\": \"total_downloads\", \"idx\": 10, \"val\": 34}, {\"col\": \"total_downloads\", \"idx\": 11, \"val\": 1}, {\"col\": \"total_downloads\", \"idx\": 12, \"val\": 63}, {\"col\": \"total_downloads\", \"idx\": 13, \"val\": 43}, {\"col\": \"total_downloads\", \"idx\": 14, \"val\": 3}, {\"col\": \"total_downloads\", \"idx\": 15, \"val\": 2}, {\"col\": \"total_downloads\", \"idx\": 16, \"val\": 291}, {\"col\": \"total_downloads\", \"idx\": 17, \"val\": 1}, {\"col\": \"total_downloads\", \"idx\": 18, \"val\": 2}, {\"col\": \"total_downloads\", \"idx\": 19, \"val\": 875}, {\"col\": \"total_downloads\", \"idx\": 20, \"val\": 190}, {\"col\": \"total_downloads\", \"idx\": 21, \"val\": 85}, {\"col\": \"total_downloads\", \"idx\": 22, \"val\": 550}, {\"col\": \"total_downloads\", \"idx\": 23, \"val\": 22}, {\"col\": \"total_downloads\", \"idx\": 24, \"val\": 69}, {\"col\": \"total_downloads\", \"idx\": 25, \"val\": 2}, {\"col\": \"total_downloads\", \"idx\": 26, \"val\": 1}, {\"col\": \"total_downloads\", \"idx\": 27, \"val\": 35}, {\"col\": \"total_downloads\", \"idx\": 28, \"val\": 617}, {\"col\": \"total_downloads\", \"idx\": 29, \"val\": 46}, {\"col\": \"total_downloads\", \"idx\": 30, \"val\": 19}, {\"col\": \"total_downloads\", \"idx\": 31, \"val\": 6}, {\"col\": \"total_downloads\", \"idx\": 32, \"val\": 56}, {\"col\": \"total_downloads\", \"idx\": 33, \"val\": 2}, {\"col\": \"total_downloads\", \"idx\": 34, \"val\": 190}, {\"col\": \"total_downloads\", \"idx\": 35, \"val\": 1}, {\"col\": \"total_downloads\", \"idx\": 36, \"val\": 103}, {\"col\": \"total_downloads\", \"idx\": 37, \"val\": 213}, {\"col\": \"total_downloads\", \"idx\": 38, \"val\": 1479}, {\"col\": \"total_downloads\", \"idx\": 39, \"val\": 6}, {\"col\": \"total_downloads\", \"idx\": 40, \"val\": 2}, {\"col\": \"total_downloads\", \"idx\": 41, \"val\": 6}, {\"col\": \"total_downloads\", \"idx\": 42, \"val\": 37}, {\"col\": \"total_downloads\", \"idx\": 43, \"val\": 7}, {\"col\": \"total_downloads\", \"idx\": 44, \"val\": 4}, {\"col\": \"total_downloads\", \"idx\": 45, \"val\": 54}, {\"col\": \"total_downloads\", \"idx\": 46, \"val\": 22}, {\"col\": \"total_downloads\", \"idx\": 47, \"val\": 5}, {\"col\": \"total_downloads\", \"idx\": 48, \"val\": 22}, {\"col\": \"total_downloads\", \"idx\": 49, \"val\": 103}, {\"col\": \"total_downloads\", \"idx\": 50, \"val\": 46}, {\"col\": \"total_downloads\", \"idx\": 51, \"val\": 2}, {\"col\": \"total_downloads\", \"idx\": 52, \"val\": 529}, {\"col\": \"total_downloads\", \"idx\": 53, \"val\": 10}, {\"col\": \"total_downloads\", \"idx\": 54, \"val\": 163}, {\"col\": \"total_downloads\", \"idx\": 55, \"val\": 2}, {\"col\": \"total_downloads\", \"idx\": 56, \"val\": 285}, {\"col\": \"total_downloads\", \"idx\": 57, \"val\": 77}, {\"col\": \"total_downloads\", \"idx\": 58, \"val\": 12}, {\"col\": \"total_downloads\", \"idx\": 59, \"val\": 9}, {\"col\": \"total_downloads\", \"idx\": 60, \"val\": 68}, {\"col\": \"total_downloads\", \"idx\": 61, \"val\": 1}, {\"col\": \"total_downloads\", \"idx\": 62, \"val\": 1}, {\"col\": \"total_downloads\", \"idx\": 63, \"val\": 2}, {\"col\": \"total_downloads\", \"idx\": 64, \"val\": 11}, {\"col\": \"total_downloads\", \"idx\": 65, \"val\": 6}, {\"col\": \"total_downloads\", \"idx\": 66, \"val\": 49}, {\"col\": \"total_downloads\", \"idx\": 67, \"val\": 9}, {\"col\": \"total_downloads\", \"idx\": 68, \"val\": 25}, {\"col\": \"total_downloads\", \"idx\": 69, \"val\": 3}, {\"col\": \"total_downloads\", \"idx\": 70, \"val\": 2}, {\"col\": \"total_downloads\", \"idx\": 71, \"val\": 1}, {\"col\": \"total_downloads\", \"idx\": 72, \"val\": 120}, {\"col\": \"total_downloads\", \"idx\": 73, \"val\": 25}, {\"col\": \"total_downloads\", \"idx\": 74, \"val\": 115}, {\"col\": \"total_downloads\", \"idx\": 75, \"val\": 30}, {\"col\": \"total_downloads\", \"idx\": 76, \"val\": 249}, {\"col\": \"total_downloads\", \"idx\": 77, \"val\": 182}, {\"col\": \"total_downloads\", \"idx\": 78, \"val\": 84}, {\"col\": \"total_downloads\", \"idx\": 79, \"val\": 1}, {\"col\": \"total_downloads\", \"idx\": 80, \"val\": 2}, {\"col\": \"total_downloads\", \"idx\": 81, \"val\": 3}, {\"col\": \"total_downloads\", \"idx\": 82, \"val\": 36}, {\"col\": \"total_downloads\", \"idx\": 83, \"val\": 7}, {\"col\": \"total_downloads\", \"idx\": 84, \"val\": 31}, {\"col\": \"total_downloads\", \"idx\": 85, \"val\": 17}, {\"col\": \"total_downloads\", \"idx\": 86, \"val\": 14}, {\"col\": \"total_downloads\", \"idx\": 87, \"val\": 1}, {\"col\": \"total_downloads\", \"idx\": 88, \"val\": 1}, {\"col\": \"total_downloads\", \"idx\": 89, \"val\": 51}, {\"col\": \"total_downloads\", \"idx\": 90, \"val\": 9}, {\"col\": \"total_downloads\", \"idx\": 91, \"val\": 40}, {\"col\": \"total_downloads\", \"idx\": 92, \"val\": 1}, {\"col\": \"total_downloads\", \"idx\": 93, \"val\": 21}, {\"col\": \"total_downloads\", \"idx\": 94, \"val\": 1}, {\"col\": \"total_downloads\", \"idx\": 95, \"val\": 326}, {\"col\": \"total_downloads\", \"idx\": 96, \"val\": 130}, {\"col\": \"total_downloads\", \"idx\": 97, \"val\": 71}, {\"col\": \"total_downloads\", \"idx\": 98, \"val\": 27}, {\"col\": \"total_downloads\", \"idx\": 99, \"val\": 1}, {\"col\": \"total_downloads\", \"idx\": 100, \"val\": 5}, {\"col\": \"total_downloads\", \"idx\": 101, \"val\": 1}, {\"col\": \"total_downloads\", \"idx\": 102, \"val\": 59}, {\"col\": \"total_downloads\", \"idx\": 103, \"val\": 1}, {\"col\": \"total_downloads\", \"idx\": 104, \"val\": 8}, {\"col\": \"total_downloads\", \"idx\": 105, \"val\": 12}, {\"col\": \"total_downloads\", \"idx\": 106, \"val\": 24}, {\"col\": \"total_downloads\", \"idx\": 107, \"val\": 158}, {\"col\": \"total_downloads\", \"idx\": 108, \"val\": 5}, {\"col\": \"total_downloads\", \"idx\": 109, \"val\": 13275}, {\"col\": \"total_downloads\", \"idx\": 110, \"val\": 9}, {\"col\": \"total_downloads\", \"idx\": 111, \"val\": 2}, {\"col\": \"total_downloads\", \"idx\": 112, \"val\": 15}, {\"col\": \"total_downloads\", \"idx\": 113, \"val\": 118}, {\"col\": \"total_downloads\", \"idx\": 114, \"val\": 1}]}, {\"name\": \"stats\", \"source\": \"table\", \"transform\": [{\"keys\": [\"data.idx\"], \"type\": \"facet\"}, {\"type\": \"stats\", \"value\": \"data.val\"}]}], \"height\": 400, \"legends\": [], \"marks\": [{\"from\": {\"data\": \"table\", \"transform\": [{\"keys\": [\"data.col\"], \"type\": \"facet\"}, {\"height\": \"data.val\", \"point\": \"data.idx\", \"type\": \"stack\"}]}, \"marks\": [{\"properties\": {\"enter\": {\"fill\": {\"field\": \"data.col\", \"scale\": \"color\"}, \"width\": {\"band\": true, \"offset\": -1, \"scale\": \"x\"}, \"x\": {\"field\": \"data.idx\", \"scale\": \"x\"}, \"y\": {\"field\": \"y\", \"scale\": \"y\"}, \"y2\": {\"field\": \"y2\", \"scale\": \"y\"}}}, \"type\": \"rect\"}], \"type\": \"group\"}], \"padding\": \"auto\", \"scales\": [{\"domain\": {\"data\": \"table\", \"field\": \"data.idx\"}, \"name\": \"x\", \"range\": \"width\", \"type\": \"ordinal\", \"zero\": false}, {\"domain\": {\"data\": \"stats\", \"field\": \"sum\"}, \"name\": \"y\", \"nice\": true, \"range\": \"height\"}, {\"domain\": {\"data\": \"table\", \"field\": \"data.col\"}, \"name\": \"color\", \"range\": \"category20\", \"type\": \"ordinal\"}], \"width\": 1500}, function(chart) {\n",
       "         chart({el: \"#vise5e802b576a54eabbe28a09baa11c23f\"}).update();\n",
       "       });\n",
       "     };\n",
       "     _do_plot();\n",
       "   })();\n",
       "</script>\n",
       "<style>.vega canvas {width: 100%;}</style>\n",
       "        "
      ],
      "text/plain": [
       "<IPython.core.display.HTML object>"
      ]
     },
     "metadata": {},
     "output_type": "execute_result"
    }
   ],
   "source": []
  },
  {
   "cell_type": "code",
   "execution_count": 9,
   "metadata": {
    "collapsed": true
   },
   "outputs": [],
   "source": [
    "#Map Data Binding\n",
    "import json\n",
    "import pandas as pd"
   ]
  },
  {
   "cell_type": "code",
   "execution_count": 35,
   "metadata": {
    "collapsed": false
   },
   "outputs": [],
   "source": [
    "#Map the county codes we have in our geometry to those in the\n",
    "#county_data file, which contains additional rows we don't need\n",
    "with open('geo_data/vincent_map_data/us_counties.topo.json', 'r') as f:\n",
    "    get_id = json.load(f)\n",
    "\n",
    "#A little FIPS code munging\n",
    "new_geoms = []\n",
    "for geom in get_id['objects']['us_counties.geo']['geometries']:\n",
    "    geom['properties']['FIPS'] = int(geom['properties']['FIPS'])\n",
    "    new_geoms.append(geom)\n",
    "\n",
    "get_id['objects']['us_counties.geo']['geometries'] = new_geoms\n",
    "\n",
    "with open('geo_data/vincent_map_data/us_counties.topo.json', 'w') as f:\n",
    "    json.dump(get_id, f)\n",
    "\n",
    "#Grab the FIPS codes and load them into a dataframe\n",
    "geometries = get_id['objects']['us_counties.geo']['geometries']\n",
    "county_codes = [x['properties']['FIPS'] for x in geometries]\n",
    "county_df = pd.DataFrame({'FIPS': county_codes}, dtype=str)\n",
    "county_df = county_df.astype(int)\n",
    "\n",
    "#Read into Dataframe, cast to string for consistency\n",
    "# df = pd.read_csv('data/us_county_data.csv', na_values=[' '])\n",
    "# df['FIPS_Code'] = df['FIPS'].astype(str)\n",
    "\n",
    "#Perform an inner join, pad NA's with data from nearest county\n",
    "# merged = pd.merge(df, county_df, on='FIPS', how='inner')\n",
    "# merged = merged.fillna(method='pad')"
   ]
  },
  {
   "cell_type": "code",
   "execution_count": 70,
   "metadata": {
    "collapsed": false
   },
   "outputs": [
    {
     "data": {
      "text/plain": [
       "{'arcs': [[[0, 1, 2, 3, -4, 4, 5, 6, 7, -8, 8, 9]],\n",
       "  [[10, 11, 12, 13, 14, 15, 16, 17, 18]]],\n",
       " 'properties': {'FIPS': 22051},\n",
       " 'type': 'MultiPolygon'}"
      ]
     },
     "execution_count": 70,
     "metadata": {},
     "output_type": "execute_result"
    }
   ],
   "source": [
    "get_id['objects']['us_counties.geo']['geometries'][0]"
   ]
  },
  {
   "cell_type": "code",
   "execution_count": null,
   "metadata": {
    "collapsed": true
   },
   "outputs": [],
   "source": []
  },
  {
   "cell_type": "code",
   "execution_count": null,
   "metadata": {
    "collapsed": true
   },
   "outputs": [],
   "source": []
  },
  {
   "cell_type": "code",
   "execution_count": 72,
   "metadata": {
    "collapsed": false
   },
   "outputs": [],
   "source": [
    "#Map the county codes we have in our geometry to those in the\n",
    "#county_data file, which contains additional rows we don't need\n",
    "with open('geo_data/vincent_map_data/world-countries.topo.json', 'r') as f:\n",
    "    get_id_world = json.load(f)"
   ]
  },
  {
   "cell_type": "code",
   "execution_count": 73,
   "metadata": {
    "collapsed": false
   },
   "outputs": [
    {
     "data": {
      "text/plain": [
       "{'arcs': [[0, 1, 2, 3, 4, 5]],\n",
       " 'id': 'AFG',\n",
       " 'properties': {'name': 'Afghanistan'},\n",
       " 'type': 'Polygon'}"
      ]
     },
     "execution_count": 73,
     "metadata": {},
     "output_type": "execute_result"
    }
   ],
   "source": [
    "get_id_world['objects']['world-countries']['geometries'][0]"
   ]
  },
  {
   "cell_type": "code",
   "execution_count": 79,
   "metadata": {
    "collapsed": false
   },
   "outputs": [],
   "source": [
    "#A little FIPS code munging\n",
    "new_geoms = []\n",
    "for geom in get_id_world['objects']['world-countries']['geometries']:\n",
    "    geom['properties']['name'] = str(geom['properties']['name'])\n",
    "    new_geoms.append(geom)\n",
    "    \n",
    "get_id_world['objects']['world-countries']['geometries'] = new_geoms\n",
    "\n",
    "geometries = get_id_world['objects']['world-countries']['geometries']"
   ]
  },
  {
   "cell_type": "code",
   "execution_count": 93,
   "metadata": {
    "collapsed": false
   },
   "outputs": [],
   "source": [
    "import plotly.tools as tls\n",
    "tls.set_credentials_file(username='CoreyPetty', api_key='lhkmbpdh7g')"
   ]
  },
  {
   "cell_type": "code",
   "execution_count": 118,
   "metadata": {
    "collapsed": false
   },
   "outputs": [
    {
     "data": {
      "text/plain": [
       "'https://plot.ly/~CoreyPetty/10'"
      ]
     },
     "execution_count": 118,
     "metadata": {},
     "output_type": "execute_result"
    }
   ],
   "source": [
    "import plotly.plotly as py\n",
    "import pandas as pd\n",
    "\n",
    "data = [ dict(\n",
    "        type = 'choropleth',\n",
    "        locations = locations,\n",
    "        z = tbp_geo_data['total_downloads'],\n",
    "        text = tbp_geo_data['country_name'],\n",
    "        colorscale = [[0,\"rgb(5, 10, 172)\"],[0.35,\"rgb(40, 60, 190)\"],[0.5,\"rgb(70, 100, 245)\"],\\\n",
    "            [0.6,\"rgb(90, 120, 245)\"],[0.7,\"rgb(106, 137, 247)\"],[1,\"rgb(220, 220, 220)\"]],\n",
    "        autocolorscale = False,\n",
    "        reversescale = True,\n",
    "        marker = dict(\n",
    "            line = dict (\n",
    "                color = 'rgb(180,180,180)',\n",
    "                width = 0.5\n",
    "            )\n",
    "        ),\n",
    "        zmin = 0,\n",
    "        colorbar = dict(\n",
    "            tickprefix = '',\n",
    "            title = 'Total<br>downloads'\n",
    "        ),\n",
    "    ) ]\n",
    "\n",
    "layout = dict(\n",
    "    title = 'The Bitcoin Podcast global downloads',\n",
    "    geo = dict(\n",
    "        showframe = False,\n",
    "        showcoastlines = False,\n",
    "        projection = dict(\n",
    "            type = 'Mercator'\n",
    "        )\n",
    "    )\n",
    ")\n",
    "\n",
    "fig = dict( data=data, layout=layout )\n",
    "py.plot(fig)"
   ]
  },
  {
   "cell_type": "code",
   "execution_count": 104,
   "metadata": {
    "collapsed": false
   },
   "outputs": [],
   "source": [
    "import pycountry"
   ]
  },
  {
   "cell_type": "code",
   "execution_count": 114,
   "metadata": {
    "collapsed": false
   },
   "outputs": [],
   "source": [
    "mapping = {country.name: country.alpha3 for country in pycountry.countries}\n",
    "# for column in tbp_geo_data:\n",
    "#     print column['name'], mapping.get(column['name'], 'No country found')"
   ]
  },
  {
   "cell_type": "code",
   "execution_count": 116,
   "metadata": {
    "collapsed": false
   },
   "outputs": [],
   "source": [
    "locations = []\n",
    "for country in tbp_geo_data['country_name']:\n",
    "    locations.append(mapping.get(country,\"not found\"))"
   ]
  },
  {
   "cell_type": "code",
   "execution_count": 119,
   "metadata": {
    "collapsed": false
   },
   "outputs": [
    {
     "data": {
      "text/plain": [
       "'https://plot.ly/~CoreyPetty/12'"
      ]
     },
     "execution_count": 119,
     "metadata": {},
     "output_type": "execute_result"
    }
   ],
   "source": [
    "tbp_geo_data = pd.read_csv(\"/Users/coreypetty/PycharmProjects/TBP_metrics/raw_data/countries_2016-04-04-noUS.csv\")\n",
    "data = [ dict(\n",
    "        type = 'choropleth',\n",
    "        locations = locations,\n",
    "        z = tbp_geo_data['total_downloads'],\n",
    "        text = tbp_geo_data['country_name'],\n",
    "        colorscale = [[0,\"rgb(5, 10, 172)\"],[0.35,\"rgb(40, 60, 190)\"],[0.5,\"rgb(70, 100, 245)\"],\\\n",
    "            [0.6,\"rgb(90, 120, 245)\"],[0.7,\"rgb(106, 137, 247)\"],[1,\"rgb(220, 220, 220)\"]],\n",
    "        autocolorscale = False,\n",
    "        reversescale = True,\n",
    "        marker = dict(\n",
    "            line = dict (\n",
    "                color = 'rgb(180,180,180)',\n",
    "                width = 0.5\n",
    "            )\n",
    "        ),\n",
    "        zmin = 0,\n",
    "        colorbar = dict(\n",
    "            tickprefix = '',\n",
    "            title = 'Total<br>downloads'\n",
    "        ),\n",
    "    ) ]\n",
    "\n",
    "layout = dict(\n",
    "    title = 'The Bitcoin Podcast global downloads',\n",
    "    geo = dict(\n",
    "        showframe = False,\n",
    "        showcoastlines = False,\n",
    "        projection = dict(\n",
    "            type = 'Mercator'\n",
    "        )\n",
    "    )\n",
    ")\n",
    "\n",
    "fig = dict( data=data, layout=layout )\n",
    "py.plot(fig)"
   ]
  },
  {
   "cell_type": "code",
   "execution_count": null,
   "metadata": {
    "collapsed": true
   },
   "outputs": [],
   "source": []
  }
 ],
 "metadata": {
  "kernelspec": {
   "display_name": "Python 3",
   "language": "python",
   "name": "python3"
  },
  "language_info": {
   "codemirror_mode": {
    "name": "ipython",
    "version": 3
   },
   "file_extension": ".py",
   "mimetype": "text/x-python",
   "name": "python",
   "nbconvert_exporter": "python",
   "pygments_lexer": "ipython3",
   "version": "3.5.1"
  }
 },
 "nbformat": 4,
 "nbformat_minor": 0
}
