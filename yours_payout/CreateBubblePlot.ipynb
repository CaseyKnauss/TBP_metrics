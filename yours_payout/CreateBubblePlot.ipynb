{
 "cells": [
  {
   "cell_type": "code",
   "execution_count": 26,
   "metadata": {
    "collapsed": true
   },
   "outputs": [],
   "source": [
    "%matplotlib inline\n",
    "import matplotlib.pyplot as plt\n",
    "plt.style.use('ggplot')\n",
    "import pandas as pd\n",
    "import plotly.plotly as plotly\n",
    "from plotly.graph_objs import *"
   ]
  },
  {
   "cell_type": "code",
   "execution_count": 2,
   "metadata": {
    "collapsed": false
   },
   "outputs": [
    {
     "data": {
      "text/html": [
       "<style>body {\n",
       "    margin: 0;\n",
       "    font-family: Helvetica;\n",
       "}\n",
       "table.dataframe {\n",
       "    border-collapse: collapse;\n",
       "    border: none;\n",
       "}\n",
       "table.dataframe tr {\n",
       "    border: none;\n",
       "}\n",
       "table.dataframe td, table.dataframe th {\n",
       "    margin: 0;\n",
       "    border: 1px solid white;\n",
       "    padding-left: 0.25em;\n",
       "    padding-right: 0.25em;\n",
       "}\n",
       "table.dataframe th:not(:empty) {\n",
       "    background-color: #fec;\n",
       "    text-align: left;\n",
       "    font-weight: normal;\n",
       "}\n",
       "table.dataframe tr:nth-child(2) th:empty {\n",
       "    border-left: none;\n",
       "    border-right: 1px dashed #888;\n",
       "}\n",
       "table.dataframe td {\n",
       "    border: 2px solid #ccf;\n",
       "    background-color: #f4f4ff;\n",
       "}\n",
       "h3 {\n",
       "    color: white;\n",
       "    background-color: black;\n",
       "    padding: 0.5em;\n",
       "}\n",
       "</style>"
      ],
      "text/plain": [
       "<IPython.core.display.HTML object>"
      ]
     },
     "execution_count": 2,
     "metadata": {},
     "output_type": "execute_result"
    }
   ],
   "source": [
    "#  Make notebook and pandas DataFrames look better\n",
    "from IPython.core.display import HTML\n",
    "css = open(\"../styles/style-table.css\").read() + open('../styles/style-notebook.css').read()\n",
    "HTML('<style>{}</style>'.format(css))"
   ]
  },
  {
   "cell_type": "code",
   "execution_count": 3,
   "metadata": {
    "collapsed": false
   },
   "outputs": [
    {
     "name": "stdout",
     "output_type": "stream",
     "text": [
      "Total tipped:    $221.35\n",
      "Yours revenue:   $22.13\n",
      "Creator revenue: $110.67\n",
      "Curator revenue: $88.54\n"
     ]
    },
    {
     "data": {
      "text/html": [
       "<div>\n",
       "<table border=\"1\" class=\"dataframe\">\n",
       "  <thead>\n",
       "    <tr style=\"text-align: right;\">\n",
       "      <th></th>\n",
       "      <th>tip</th>\n",
       "      <th>curator_payouts</th>\n",
       "      <th>yours_revenue</th>\n",
       "      <th>curator_num</th>\n",
       "      <th>total_earned</th>\n",
       "    </tr>\n",
       "  </thead>\n",
       "  <tbody>\n",
       "    <tr>\n",
       "      <th>0</th>\n",
       "      <td>2.31685</td>\n",
       "      <td>[0.926740584306, 0.451587069067, 0.44781392460...</td>\n",
       "      <td>0.231685</td>\n",
       "      <td>0</td>\n",
       "      <td>4.688070</td>\n",
       "    </tr>\n",
       "    <tr>\n",
       "      <th>1</th>\n",
       "      <td>2.20194</td>\n",
       "      <td>[0.429189460687, 0.425603454915, 0.20268443417...</td>\n",
       "      <td>0.220194</td>\n",
       "      <td>1</td>\n",
       "      <td>3.574777</td>\n",
       "    </tr>\n",
       "    <tr>\n",
       "      <th>2</th>\n",
       "      <td>4.22524</td>\n",
       "      <td>[0.816677160526, 0.388924822556, 0.32108592628...</td>\n",
       "      <td>0.422524</td>\n",
       "      <td>2</td>\n",
       "      <td>6.035970</td>\n",
       "    </tr>\n",
       "    <tr>\n",
       "      <th>3</th>\n",
       "      <td>2.61363</td>\n",
       "      <td>[0.240579138754, 0.198615699314, 0.15304725486...</td>\n",
       "      <td>0.261363</td>\n",
       "      <td>3</td>\n",
       "      <td>3.228524</td>\n",
       "    </tr>\n",
       "    <tr>\n",
       "      <th>4</th>\n",
       "      <td>2.66381</td>\n",
       "      <td>[0.20242959196, 0.155986125264, 0.048952237620...</td>\n",
       "      <td>0.266381</td>\n",
       "      <td>4</td>\n",
       "      <td>3.045320</td>\n",
       "    </tr>\n",
       "  </tbody>\n",
       "</table>\n",
       "</div>"
      ],
      "text/plain": [
       "       tip                                    curator_payouts yours_revenue  \\\n",
       "0  2.31685  [0.926740584306, 0.451587069067, 0.44781392460...      0.231685   \n",
       "1  2.20194  [0.429189460687, 0.425603454915, 0.20268443417...      0.220194   \n",
       "2  4.22524  [0.816677160526, 0.388924822556, 0.32108592628...      0.422524   \n",
       "3  2.61363  [0.240579138754, 0.198615699314, 0.15304725486...      0.261363   \n",
       "4  2.66381  [0.20242959196, 0.155986125264, 0.048952237620...      0.266381   \n",
       "\n",
       "   curator_num  total_earned  \n",
       "0            0      4.688070  \n",
       "1            1      3.574777  \n",
       "2            2      6.035970  \n",
       "3            3      3.228524  \n",
       "4            4      3.045320  "
      ]
     },
     "execution_count": 3,
     "metadata": {},
     "output_type": "execute_result"
    }
   ],
   "source": [
    "from model_def import get_payouts\n",
    "max_tip = 5\n",
    "num_tips = 100\n",
    "curator_perc = 0.4\n",
    "yours_perc = 0.1\n",
    "df = get_payouts(max_tip=max_tip, num_tips=num_tips, curator_payout_perc=curator_perc, yours_payout_perc=yours_perc)\n",
    "df.head()"
   ]
  },
  {
   "cell_type": "code",
   "execution_count": 42,
   "metadata": {
    "collapsed": false
   },
   "outputs": [
    {
     "data": {
      "text/html": [
       "<iframe id=\"igraph\" scrolling=\"no\" style=\"border:none;\" seamless=\"seamless\" src=\"https://plot.ly/~CoreyPetty/19.embed\" height=\"525px\" width=\"100%\"></iframe>"
      ],
      "text/plain": [
       "<plotly.tools.PlotlyDisplay object>"
      ]
     },
     "execution_count": 42,
     "metadata": {},
     "output_type": "execute_result"
    }
   ],
   "source": [
    "sizemode='area'\n",
    "sizeref = df['total_earned'].max() / 1e2**1.5\n",
    "labels = []\n",
    "for exact in df['total_earned']:\n",
    "    labels.append('${0:.2f}'.format(round(exact,2)))\n",
    "\n",
    "# Define a trace-generating function (returns a Scatter object)\n",
    "data = Data()\n",
    "data.append(Scatter(\n",
    "        x=df['curator_num'],              # Curator number\n",
    "        y=df['tip'],                      # Amount of initial tip\n",
    "        text=labels,                      # label on hover\n",
    "        mode='markers',                   # (!) point markers only on this plot\n",
    "        marker= Marker(       \n",
    "            size=df.total_earned,         # (!) marker sizes (sizes is a list)\n",
    "            sizeref=sizeref,              # link sizeref\n",
    "            sizemode=sizemode,            # link sizemode\n",
    "            opacity=0.5,                  # (!) partly transparent markers\n",
    "            line=Line(width=0.0)          # remove marker borders\n",
    "        )\n",
    "    ))\n",
    "\n",
    "# Set plot and axis titles\n",
    "title = \"Projected Yours Network Payout\"\n",
    "x_title = \"Curator Number\"\n",
    "y_title = \"Amount Tipped, (USD)\"\n",
    "\n",
    "# Define a dictionary of axis style options\n",
    "axis_style = dict(\n",
    "    zeroline=False,       # remove thick zero line\n",
    "    gridcolor='#FFFFFF',  # white grid lines\n",
    "    ticks='outside',      # draw ticks outside axes \n",
    "    ticklen=8,            # tick length\n",
    "    tickwidth=1.5         #   and width\n",
    ")\n",
    "\n",
    "# Make layout object\n",
    "layout = Layout(\n",
    "    title=title,             # set plot title\n",
    "    plot_bgcolor='#EFECEA',  # set plot color to grey\n",
    "    xaxis=XAxis(\n",
    "        axis_style,      # add axis style dictionary\n",
    "        title=x_title,   # x-axis title\n",
    "    ),\n",
    "    yaxis=YAxis(\n",
    "        axis_style,      # add axis style dictionary\n",
    "        title=y_title,   # y-axis title\n",
    "    )\n",
    ")\n",
    "\n",
    "# Make Figure object\n",
    "fig = Figure(data=data, layout=layout)\n",
    "\n",
    "# (@) Send to Plotly and show in notebook\n",
    "plotly.iplot(fig, filename='paymentModel')\n"
   ]
  },
  {
   "cell_type": "code",
   "execution_count": null,
   "metadata": {
    "collapsed": true
   },
   "outputs": [],
   "source": []
  }
 ],
 "metadata": {
  "kernelspec": {
   "display_name": "Python 3",
   "language": "python",
   "name": "python3"
  },
  "language_info": {
   "codemirror_mode": {
    "name": "ipython",
    "version": 3
   },
   "file_extension": ".py",
   "mimetype": "text/x-python",
   "name": "python",
   "nbconvert_exporter": "python",
   "pygments_lexer": "ipython3",
   "version": "3.5.1"
  }
 },
 "nbformat": 4,
 "nbformat_minor": 0
}
