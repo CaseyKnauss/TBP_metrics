{
 "cells": [
  {
   "cell_type": "code",
   "execution_count": 1,
   "metadata": {
    "collapsed": true
   },
   "outputs": [],
   "source": [
    "%matplotlib inline\n",
    "import matplotlib.pyplot as plt\n",
    "plt.style.use('ggplot')\n",
    "import pandas as pd\n",
    "import plotly.plotly as plotly\n",
    "from plotly.graph_objs import *"
   ]
  },
  {
   "cell_type": "code",
   "execution_count": 2,
   "metadata": {
    "collapsed": false
   },
   "outputs": [
    {
     "data": {
      "text/html": [
       "<style>body {\n",
       "    margin: 0;\n",
       "    font-family: Helvetica;\n",
       "}\n",
       "table.dataframe {\n",
       "    border-collapse: collapse;\n",
       "    border: none;\n",
       "}\n",
       "table.dataframe tr {\n",
       "    border: none;\n",
       "}\n",
       "table.dataframe td, table.dataframe th {\n",
       "    margin: 0;\n",
       "    border: 1px solid white;\n",
       "    padding-left: 0.25em;\n",
       "    padding-right: 0.25em;\n",
       "}\n",
       "table.dataframe th:not(:empty) {\n",
       "    background-color: #fec;\n",
       "    text-align: left;\n",
       "    font-weight: normal;\n",
       "}\n",
       "table.dataframe tr:nth-child(2) th:empty {\n",
       "    border-left: none;\n",
       "    border-right: 1px dashed #888;\n",
       "}\n",
       "table.dataframe td {\n",
       "    border: 2px solid #ccf;\n",
       "    background-color: #f4f4ff;\n",
       "}\n",
       "h3 {\n",
       "    color: white;\n",
       "    background-color: black;\n",
       "    padding: 0.5em;\n",
       "}\n",
       "</style>"
      ],
      "text/plain": [
       "<IPython.core.display.HTML object>"
      ]
     },
     "execution_count": 2,
     "metadata": {},
     "output_type": "execute_result"
    }
   ],
   "source": [
    "#  Make notebook and pandas DataFrames look better\n",
    "from IPython.core.display import HTML\n",
    "css = open(\"../styles/style-table.css\").read() + open('../styles/style-notebook.css').read()\n",
    "HTML('<style>{}</style>'.format(css))"
   ]
  },
  {
   "cell_type": "code",
   "execution_count": 3,
   "metadata": {
    "collapsed": false,
    "scrolled": true
   },
   "outputs": [
    {
     "name": "stdout",
     "output_type": "stream",
     "text": [
      "Total tipped:    $248.36\n",
      "Yours revenue:   $24.84\n",
      "Creator revenue: $124.18\n",
      "Curator revenue: $92.99\n"
     ]
    },
    {
     "data": {
      "text/html": [
       "<div>\n",
       "<table border=\"1\" class=\"dataframe\">\n",
       "  <thead>\n",
       "    <tr style=\"text-align: right;\">\n",
       "      <th></th>\n",
       "      <th>tip</th>\n",
       "      <th>curator_payouts</th>\n",
       "      <th>yours_revenue</th>\n",
       "      <th>curator_num</th>\n",
       "      <th>total_earned</th>\n",
       "    </tr>\n",
       "  </thead>\n",
       "  <tbody>\n",
       "    <tr>\n",
       "      <th>0</th>\n",
       "      <td>1.10514</td>\n",
       "      <td>[0.315724351626, 0.234316232187, 0.07970648669...</td>\n",
       "      <td>0.110514</td>\n",
       "      <td>0</td>\n",
       "      <td>1.980263</td>\n",
       "    </tr>\n",
       "    <tr>\n",
       "      <th>1</th>\n",
       "      <td>2.76193</td>\n",
       "      <td>[0.585596690933, 0.19920026204, 0.292148547075...</td>\n",
       "      <td>0.276193</td>\n",
       "      <td>1</td>\n",
       "      <td>4.159968</td>\n",
       "    </tr>\n",
       "    <tr>\n",
       "      <th>2</th>\n",
       "      <td>4.3618</td>\n",
       "      <td>[0.314587854809, 0.461376826358, 0.34454448902...</td>\n",
       "      <td>0.43618</td>\n",
       "      <td>2</td>\n",
       "      <td>5.644841</td>\n",
       "    </tr>\n",
       "    <tr>\n",
       "      <th>3</th>\n",
       "      <td>1.81012</td>\n",
       "      <td>[0.191468218418, 0.14298359976, 0.024212744369...</td>\n",
       "      <td>0.181012</td>\n",
       "      <td>3</td>\n",
       "      <td>2.212019</td>\n",
       "    </tr>\n",
       "    <tr>\n",
       "      <th>4</th>\n",
       "      <td>3.60914</td>\n",
       "      <td>[0.285090718783, 0.0482770660932, 0.2419302311...</td>\n",
       "      <td>0.360914</td>\n",
       "      <td>4</td>\n",
       "      <td>4.028715</td>\n",
       "    </tr>\n",
       "  </tbody>\n",
       "</table>\n",
       "</div>"
      ],
      "text/plain": [
       "       tip                                    curator_payouts yours_revenue  \\\n",
       "0  1.10514  [0.315724351626, 0.234316232187, 0.07970648669...      0.110514   \n",
       "1  2.76193  [0.585596690933, 0.19920026204, 0.292148547075...      0.276193   \n",
       "2   4.3618  [0.314587854809, 0.461376826358, 0.34454448902...       0.43618   \n",
       "3  1.81012  [0.191468218418, 0.14298359976, 0.024212744369...      0.181012   \n",
       "4  3.60914  [0.285090718783, 0.0482770660932, 0.2419302311...      0.360914   \n",
       "\n",
       "   curator_num  total_earned  \n",
       "0            0      1.980263  \n",
       "1            1      4.159968  \n",
       "2            2      5.644841  \n",
       "3            3      2.212019  \n",
       "4            4      4.028715  "
      ]
     },
     "execution_count": 3,
     "metadata": {},
     "output_type": "execute_result"
    }
   ],
   "source": [
    "from model_def import get_payouts\n",
    "max_tip = 5\n",
    "num_tips = 100\n",
    "curator_perc = 0.4\n",
    "yours_perc = 0.1\n",
    "df = get_payouts(max_tip=max_tip, num_tips=num_tips, curator_payout_perc=curator_perc, yours_payout_perc=yours_perc)\n",
    "df.head()"
   ]
  },
  {
   "cell_type": "code",
   "execution_count": 11,
   "metadata": {
    "collapsed": false
   },
   "outputs": [
    {
     "data": {
      "text/plain": [
       "[<matplotlib.lines.Line2D at 0x11b5d4630>]"
      ]
     },
     "execution_count": 11,
     "metadata": {},
     "output_type": "execute_result"
    },
    {
     "data": {
      "image/png": "[encoded data removed]",
      "text/plain": [
       "<matplotlib.figure.Figure at 0x11bc21cc0>"
      ]
     },
     "metadata": {},
     "output_type": "display_data"
    }
   ],
   "source": [
    "# Plot the payout of a given curator\n",
    "curator_num = 5\n",
    "plt.plot(df.curator_num[(curator_num-1):-1], df.curator_payouts[curator_num-1])"
   ]
  },
  {
   "cell_type": "code",
   "execution_count": 42,
   "metadata": {
    "collapsed": false
   },
   "outputs": [
    {
     "data": {
      "text/html": [
       "<iframe id=\"igraph\" scrolling=\"no\" style=\"border:none;\" seamless=\"seamless\" src=\"https://plot.ly/~CoreyPetty/19.embed\" height=\"525px\" width=\"100%\"></iframe>"
      ],
      "text/plain": [
       "<plotly.tools.PlotlyDisplay object>"
      ]
     },
     "execution_count": 42,
     "metadata": {},
     "output_type": "execute_result"
    }
   ],
   "source": [
    "sizemode='area'\n",
    "sizeref = df['total_earned'].max() / 1e2**1.5\n",
    "labels = []\n",
    "for exact in df['total_earned']:\n",
    "    labels.append('${0:.2f}'.format(round(exact,2)))\n",
    "\n",
    "# Define a trace-generating function (returns a Scatter object)\n",
    "data = Data()\n",
    "data.append(Scatter(\n",
    "        x=df['curator_num'],              # Curator number\n",
    "        y=df['tip'],                      # Amount of initial tip\n",
    "        text=labels,                      # label on hover\n",
    "        mode='markers',                   # (!) point markers only on this plot\n",
    "        marker= Marker(       \n",
    "            size=df.total_earned,         # (!) marker sizes (sizes is a list)\n",
    "            sizeref=sizeref,              # link sizeref\n",
    "            sizemode=sizemode,            # link sizemode\n",
    "            opacity=0.5,                  # (!) partly transparent markers\n",
    "            line=Line(width=0.0)          # remove marker borders\n",
    "        )\n",
    "    ))\n",
    "\n",
    "# Set plot and axis titles\n",
    "title = \"Projected Yours Network Payout\"\n",
    "x_title = \"Curator Number\"\n",
    "y_title = \"Amount Tipped, (USD)\"\n",
    "\n",
    "# Define a dictionary of axis style options\n",
    "axis_style = dict(\n",
    "    zeroline=False,       # remove thick zero line\n",
    "    gridcolor='#FFFFFF',  # white grid lines\n",
    "    ticks='outside',      # draw ticks outside axes \n",
    "    ticklen=8,            # tick length\n",
    "    tickwidth=1.5         #   and width\n",
    ")\n",
    "\n",
    "# Make layout object\n",
    "layout = Layout(\n",
    "    title=title,             # set plot title\n",
    "    plot_bgcolor='#EFECEA',  # set plot color to grey\n",
    "    xaxis=XAxis(\n",
    "        axis_style,      # add axis style dictionary\n",
    "        title=x_title,   # x-axis title\n",
    "    ),\n",
    "    yaxis=YAxis(\n",
    "        axis_style,      # add axis style dictionary\n",
    "        title=y_title,   # y-axis title\n",
    "    )\n",
    ")\n",
    "\n",
    "# Make Figure object\n",
    "fig = Figure(data=data, layout=layout)\n",
    "\n",
    "# (@) Send to Plotly and show in notebook\n",
    "plotly.iplot(fig, filename='paymentModel')\n"
   ]
  },
  {
   "cell_type": "code",
   "execution_count": null,
   "metadata": {
    "collapsed": true
   },
   "outputs": [],
   "source": []
  }
 ],
 "metadata": {
  "kernelspec": {
   "display_name": "Python 3",
   "language": "python",
   "name": "python3"
  },
  "language_info": {
   "codemirror_mode": {
    "name": "ipython",
    "version": 3
   },
   "file_extension": ".py",
   "mimetype": "text/x-python",
   "name": "python",
   "nbconvert_exporter": "python",
   "pygments_lexer": "ipython3",
   "version": "3.5.1"
  }
 },
 "nbformat": 4,
 "nbformat_minor": 0
}
