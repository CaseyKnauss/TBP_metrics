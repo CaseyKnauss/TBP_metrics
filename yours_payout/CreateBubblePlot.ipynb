{
 "cells": [
  {
   "cell_type": "code",
   "execution_count": 1,
   "metadata": {
    "collapsed": true
   },
   "outputs": [],
   "source": [
    "%matplotlib inline\n",
    "import matplotlib.pyplot as plt\n",
    "plt.style.use('ggplot')\n",
    "import pandas as pd\n",
    "import plotly.plotly as plotly\n",
    "from plotly.graph_objs import *"
   ]
  },
  {
   "cell_type": "code",
   "execution_count": 2,
   "metadata": {
    "collapsed": false
   },
   "outputs": [
    {
     "data": {
      "text/html": [
       "<style>body {\n",
       "    margin: 0;\n",
       "    font-family: Helvetica;\n",
       "}\n",
       "table.dataframe {\n",
       "    border-collapse: collapse;\n",
       "    border: none;\n",
       "}\n",
       "table.dataframe tr {\n",
       "    border: none;\n",
       "}\n",
       "table.dataframe td, table.dataframe th {\n",
       "    margin: 0;\n",
       "    border: 1px solid white;\n",
       "    padding-left: 0.25em;\n",
       "    padding-right: 0.25em;\n",
       "}\n",
       "table.dataframe th:not(:empty) {\n",
       "    background-color: #fec;\n",
       "    text-align: left;\n",
       "    font-weight: normal;\n",
       "}\n",
       "table.dataframe tr:nth-child(2) th:empty {\n",
       "    border-left: none;\n",
       "    border-right: 1px dashed #888;\n",
       "}\n",
       "table.dataframe td {\n",
       "    border: 2px solid #ccf;\n",
       "    background-color: #f4f4ff;\n",
       "}\n",
       "h3 {\n",
       "    color: white;\n",
       "    background-color: black;\n",
       "    padding: 0.5em;\n",
       "}\n",
       "</style>"
      ],
      "text/plain": [
       "<IPython.core.display.HTML object>"
      ]
     },
     "execution_count": 2,
     "metadata": {},
     "output_type": "execute_result"
    }
   ],
   "source": [
    "#  Make notebook and pandas DataFrames look better\n",
    "from IPython.core.display import HTML\n",
    "css = open(\"../styles/style-table.css\").read() + open('../styles/style-notebook.css').read()\n",
    "HTML('<style>{}</style>'.format(css))"
   ]
  },
  {
   "cell_type": "code",
   "execution_count": 3,
   "metadata": {
    "collapsed": false,
    "scrolled": true
   },
   "outputs": [
    {
     "name": "stdout",
     "output_type": "stream",
     "text": [
      "Total tipped:    $273.54\n",
      "Yours revenue:   $27.35\n",
      "Creator revenue: $136.77\n",
      "Curator revenue: $102.49\n"
     ]
    },
    {
     "data": {
      "text/html": [
       "<div>\n",
       "<table border=\"1\" class=\"dataframe\">\n",
       "  <thead>\n",
       "    <tr style=\"text-align: right;\">\n",
       "      <th></th>\n",
       "      <th>tip</th>\n",
       "      <th>curator_payouts</th>\n",
       "      <th>yours_revenue</th>\n",
       "      <th>curator_num</th>\n",
       "      <th>total_earned</th>\n",
       "    </tr>\n",
       "  </thead>\n",
       "  <tbody>\n",
       "    <tr>\n",
       "      <th>0</th>\n",
       "      <td>4.85757</td>\n",
       "      <td>[0.185370131101, 0.209079279695, 0.73150522910...</td>\n",
       "      <td>0.485757</td>\n",
       "      <td>0</td>\n",
       "      <td>7.300712</td>\n",
       "    </tr>\n",
       "    <tr>\n",
       "      <th>1</th>\n",
       "      <td>0.5123</td>\n",
       "      <td>[0.0220504181284, 0.0771477507877, 0.040361949...</td>\n",
       "      <td>0.05123</td>\n",
       "      <td>1</td>\n",
       "      <td>0.750415</td>\n",
       "    </tr>\n",
       "    <tr>\n",
       "      <th>2</th>\n",
       "      <td>0.647498</td>\n",
       "      <td>[0.0975073519623, 0.0510136303143, 0.074253506...</td>\n",
       "      <td>0.0647498</td>\n",
       "      <td>2</td>\n",
       "      <td>0.920583</td>\n",
       "    </tr>\n",
       "    <tr>\n",
       "      <th>3</th>\n",
       "      <td>3.63323</td>\n",
       "      <td>[0.28624662668, 0.416649736405, 0.25069873358,...</td>\n",
       "      <td>0.363323</td>\n",
       "      <td>3</td>\n",
       "      <td>4.618426</td>\n",
       "    </tr>\n",
       "    <tr>\n",
       "      <th>4</th>\n",
       "      <td>2.36705</td>\n",
       "      <td>[0.271447066755, 0.163330082617, 0.10772200352...</td>\n",
       "      <td>0.236705</td>\n",
       "      <td>4</td>\n",
       "      <td>2.822412</td>\n",
       "    </tr>\n",
       "  </tbody>\n",
       "</table>\n",
       "</div>"
      ],
      "text/plain": [
       "        tip                                    curator_payouts yours_revenue  \\\n",
       "0   4.85757  [0.185370131101, 0.209079279695, 0.73150522910...      0.485757   \n",
       "1    0.5123  [0.0220504181284, 0.0771477507877, 0.040361949...       0.05123   \n",
       "2  0.647498  [0.0975073519623, 0.0510136303143, 0.074253506...     0.0647498   \n",
       "3   3.63323  [0.28624662668, 0.416649736405, 0.25069873358,...      0.363323   \n",
       "4   2.36705  [0.271447066755, 0.163330082617, 0.10772200352...      0.236705   \n",
       "\n",
       "   curator_num  total_earned  \n",
       "0            0      7.300712  \n",
       "1            1      0.750415  \n",
       "2            2      0.920583  \n",
       "3            3      4.618426  \n",
       "4            4      2.822412  "
      ]
     },
     "execution_count": 3,
     "metadata": {},
     "output_type": "execute_result"
    }
   ],
   "source": [
    "from model_def import get_payouts\n",
    "max_tip = 5\n",
    "num_tips = 100\n",
    "curator_perc = 0.4\n",
    "yours_perc = 0.1\n",
    "df = get_payouts(max_tip=max_tip, num_tips=num_tips, curator_payout_perc=curator_perc, yours_payout_perc=yours_perc)\n",
    "df.head()"
   ]
  },
  {
   "cell_type": "code",
   "execution_count": 40,
   "metadata": {
    "collapsed": false
   },
   "outputs": [
    {
     "data": {
      "text/plain": [
       "[<matplotlib.lines.Line2D at 0x11bbb3908>]"
      ]
     },
     "execution_count": 40,
     "metadata": {},
     "output_type": "execute_result"
    },
    {
     "data": {
      "image/png": "[encoded data removed]",
      "text/plain": [
       "<matplotlib.figure.Figure at 0x11bb05d68>"
      ]
     },
     "metadata": {},
     "output_type": "display_data"
    }
   ],
   "source": [
    "# Plot the payout of a given curator\n",
    "curator_num = 5\n",
    "plt.plot(df.curator_num[(curator_num-1):-1], df.curator_payouts[curator_num-1])"
   ]
  },
  {
   "cell_type": "code",
   "execution_count": 39,
   "metadata": {
    "collapsed": false
   },
   "outputs": [
    {
     "data": {
      "text/html": [
       "<iframe id=\"igraph\" scrolling=\"no\" style=\"border:none;\" seamless=\"seamless\" src=\"https://plot.ly/~CoreyPetty/19.embed\" height=\"525px\" width=\"100%\"></iframe>"
      ],
      "text/plain": [
       "<plotly.tools.PlotlyDisplay object>"
      ]
     },
     "execution_count": 39,
     "metadata": {},
     "output_type": "execute_result"
    }
   ],
   "source": [
    "sizemode='area'\n",
    "sizeref = df['total_earned'].max() / 1e2**1.5\n",
    "labels = []\n",
    "for exact in df['total_earned']:\n",
    "    labels.append('${0:.2f}'.format(round(exact,2)))\n",
    "df['labels'] = labels\n",
    "df['recouped'] = df.total_earned > df.tip     # for separating Da\n",
    "\n",
    "colors = dict(\n",
    "    yes='#ff7f0e',     # color for profiting curator\n",
    "    no='#2ca02c',      # color for non-profiting curator\n",
    ")    \n",
    "\n",
    "# Define a trace-generating function (returns a Scatter object)\n",
    "def make_trace(X, recouped, sizes, color):\n",
    "    return Scatter(\n",
    "        x=X['curator_num'],              # Curator number\n",
    "        y=X['tip'],                      # Amount of initial tip\n",
    "        text=X['labels'],                      # label on hover\n",
    "        mode='markers',                   # (!) point markers only on this plot\n",
    "        name=recouped,\n",
    "        marker= Marker(       \n",
    "            size=sizes,          # (!) marker sizes (sizes is a list)\n",
    "            color=color,\n",
    "            sizeref=sizeref,              # link sizeref\n",
    "            sizemode=sizemode,            # link sizemode\n",
    "            opacity=0.5,                  # (!) partly transparent markers\n",
    "            line=Line(width=0.0)          # remove marker borders\n",
    "        )\n",
    "    )\n",
    "\n",
    "data = Data()\n",
    "for recouped, X in df.groupby('recouped'):\n",
    "\n",
    "    sizes = X['total_earned']                  # get population array \n",
    "    if recouped:                               # get bubble color\n",
    "        color=colors['yes']\n",
    "        recouped = 'Profited'\n",
    "    else:\n",
    "        color=colors['no']\n",
    "        recouped = \"Didn't profit\"\n",
    "\n",
    "    data.append(\n",
    "        make_trace(X, recouped, sizes, color)  # append trace to data object\n",
    "    )\n",
    "\n",
    "\n",
    "# Set plot and axis titles\n",
    "title = \"Projected Yours Network Payout\"\n",
    "x_title = \"Curator Number\"\n",
    "y_title = \"Amount Tipped, (USD)\"\n",
    "\n",
    "# Define a dictionary of axis style options\n",
    "axis_style = dict(\n",
    "    zeroline=False,       # remove thick zero line\n",
    "    gridcolor='#FFFFFF',  # white grid lines\n",
    "    ticks='outside',      # draw ticks outside axes \n",
    "    ticklen=8,            # tick length\n",
    "    tickwidth=1.5,        #   and width\n",
    ")\n",
    "\n",
    "# Make layout object\n",
    "layout = Layout(\n",
    "    title=title,             # set plot title\n",
    "    plot_bgcolor='#EFECEA',  # set plot color to grey\n",
    "    hovermode='closest',     # set hover to show closest to cursor\n",
    "    xaxis=XAxis(\n",
    "        axis_style,      # add axis style dictionary\n",
    "        title=x_title,   # x-axis title\n",
    "    ),\n",
    "    yaxis=YAxis(\n",
    "        axis_style,      # add axis style dictionary\n",
    "        title=y_title,   # y-axis title\n",
    "    ),\n",
    "    showlegend=False,     # remove legend (info in hover)\n",
    "    autosize=False,       # turn off autosize\n",
    ")\n",
    "\n",
    "# Make Figure object\n",
    "fig = Figure(data=data, layout=layout)\n",
    "\n",
    "# (@) Send to Plotly and show in notebook\n",
    "plotly.iplot(fig, filename='paymentModel')\n"
   ]
  },
  {
   "cell_type": "code",
   "execution_count": null,
   "metadata": {
    "collapsed": true
   },
   "outputs": [],
   "source": []
  }
 ],
 "metadata": {
  "kernelspec": {
   "display_name": "Python 3",
   "language": "python",
   "name": "python3"
  },
  "language_info": {
   "codemirror_mode": {
    "name": "ipython",
    "version": 3
   },
   "file_extension": ".py",
   "mimetype": "text/x-python",
   "name": "python",
   "nbconvert_exporter": "python",
   "pygments_lexer": "ipython3",
   "version": "3.5.1"
  }
 },
 "nbformat": 4,
 "nbformat_minor": 0
}
