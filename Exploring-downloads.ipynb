{
 "cells": [
  {
   "cell_type": "code",
   "execution_count": 72,
   "metadata": {
    "collapsed": false
   },
   "outputs": [],
   "source": [
    "from plotly import __version__\n",
    "#from plotly.offline import download_plotlyjs, init_notebook_mode\n",
    "#from plotly.offline import iplot as iplot_offline\n",
    "#from plotly.offline import plot\n",
    "from plotly.plotly import iplot, plot\n",
    "from plotly.graph_objs import Scatter\n",
    "#init_notebook_mode() # run at the start of every ipython notebook to use plotly.offline\n",
    "                     # this injects the plotly.js source files into the notebook\n",
    "\n",
    "%matplotlib inline\n",
    "import matplotlib as plt\n",
    "plt.style.use('ggplot')\n",
    "import pandas as pd\n",
    "import numpy as np\n",
    "from datetime import datetime\n",
    "import plotly.plotly as py\n",
    "import plotly.graph_objs as go\n",
    "import cufflinks as cf\n",
    "cf.set_config_file(offline=False, world_readable=True, theme='ggplot')"
   ]
  },
  {
   "cell_type": "code",
   "execution_count": 237,
   "metadata": {
    "collapsed": false
   },
   "outputs": [],
   "source": [
    "TBP_colors = {\n",
    "    'orange': 'rgba(236,159,76,0.8)',\n",
    "    'dark_orange': '#e8800f',\n",
    "    'gray': '#e6e6e6',\n",
    "    'light gray': '#f2f2f2',\n",
    "    'teal': '#b2e3dd',\n",
    "}"
   ]
  },
  {
   "cell_type": "code",
   "execution_count": 150,
   "metadata": {
    "collapsed": true
   },
   "outputs": [],
   "source": [
    "cf.go_online()"
   ]
  },
  {
   "cell_type": "code",
   "execution_count": 23,
   "metadata": {
    "collapsed": false
   },
   "outputs": [
    {
     "data": {
      "text/html": [
       "<div>\n",
       "<table border=\"1\" class=\"dataframe\">\n",
       "  <thead>\n",
       "    <tr style=\"text-align: right;\">\n",
       "      <th></th>\n",
       "      <th>item_title</th>\n",
       "      <th>release_date</th>\n",
       "      <th>downloads__april</th>\n",
       "      <th>downloads__march</th>\n",
       "      <th>downloads__february</th>\n",
       "      <th>downloads__total</th>\n",
       "    </tr>\n",
       "  </thead>\n",
       "  <tbody>\n",
       "    <tr>\n",
       "      <th>0</th>\n",
       "      <td>TBP50 - Not Giving a Good Got Damn</td>\n",
       "      <td>2016-04-04 10:24:41</td>\n",
       "      <td>114</td>\n",
       "      <td>0</td>\n",
       "      <td>0</td>\n",
       "      <td>114</td>\n",
       "    </tr>\n",
       "    <tr>\n",
       "      <th>1</th>\n",
       "      <td>TBP49 - Welterweight Gold</td>\n",
       "      <td>2016-03-31 10:47:53</td>\n",
       "      <td>330</td>\n",
       "      <td>253</td>\n",
       "      <td>0</td>\n",
       "      <td>583</td>\n",
       "    </tr>\n",
       "    <tr>\n",
       "      <th>2</th>\n",
       "      <td>TBP48 - Inertia, My Friend!</td>\n",
       "      <td>2016-03-27 18:30:33</td>\n",
       "      <td>27</td>\n",
       "      <td>460</td>\n",
       "      <td>0</td>\n",
       "      <td>487</td>\n",
       "    </tr>\n",
       "    <tr>\n",
       "      <th>3</th>\n",
       "      <td>TBP47 - Bottoms Up 4</td>\n",
       "      <td>2016-03-20 05:09:56</td>\n",
       "      <td>13</td>\n",
       "      <td>399</td>\n",
       "      <td>0</td>\n",
       "      <td>412</td>\n",
       "    </tr>\n",
       "    <tr>\n",
       "      <th>4</th>\n",
       "      <td>TBP46 - The Fundamental Conflict</td>\n",
       "      <td>2016-03-13 19:10:34</td>\n",
       "      <td>10</td>\n",
       "      <td>637</td>\n",
       "      <td>0</td>\n",
       "      <td>647</td>\n",
       "    </tr>\n",
       "  </tbody>\n",
       "</table>\n",
       "</div>"
      ],
      "text/plain": [
       "                           item_title        release_date  downloads__april  \\\n",
       "0  TBP50 - Not Giving a Good Got Damn 2016-04-04 10:24:41               114   \n",
       "1           TBP49 - Welterweight Gold 2016-03-31 10:47:53               330   \n",
       "2         TBP48 - Inertia, My Friend! 2016-03-27 18:30:33                27   \n",
       "3                TBP47 - Bottoms Up 4 2016-03-20 05:09:56                13   \n",
       "4    TBP46 - The Fundamental Conflict 2016-03-13 19:10:34                10   \n",
       "\n",
       "   downloads__march  downloads__february  downloads__total  \n",
       "0                 0                    0               114  \n",
       "1               253                    0               583  \n",
       "2               460                    0               487  \n",
       "3               399                    0               412  \n",
       "4               637                    0               647  "
      ]
     },
     "execution_count": 23,
     "metadata": {},
     "output_type": "execute_result"
    }
   ],
   "source": [
    "dtypes=[str,datetime.date,int,int,int,int]\n",
    "threemonth_metrics = pd.read_csv(\"raw_data/three-month-export_2016-04-04.csv\",parse_dates=[1])\n",
    "threemonth_metrics.head()"
   ]
  },
  {
   "cell_type": "code",
   "execution_count": 4,
   "metadata": {
    "collapsed": false
   },
   "outputs": [
    {
     "data": {
      "text/plain": [
       "<matplotlib.axes._subplots.AxesSubplot at 0x119040828>"
      ]
     },
     "execution_count": 4,
     "metadata": {},
     "output_type": "execute_result"
    },
    {
     "data": {
      "image/png": "[encoded data removed]",
      "text/plain": [
       "<matplotlib.figure.Figure at 0x1068c3e10>"
      ]
     },
     "metadata": {},
     "output_type": "display_data"
    }
   ],
   "source": [
    "threemonth_metrics.plot(x='release_date')"
   ]
  },
  {
   "cell_type": "code",
   "execution_count": 194,
   "metadata": {
    "collapsed": false,
    "scrolled": true
   },
   "outputs": [],
   "source": [
    "daily_metrics = pd.DataFrame.from_csv(\"raw_data/daily-totals_2016-07-03.csv\", index_col=None, parse_dates=[0])\n",
    "daily_metrics_Jun12 = pd.DataFrame.from_csv(\"raw_data/daily-totals_2016-06-12.csv\", index_col=None, parse_dates=[0])\n",
    "daily_metrics_May29 = pd.DataFrame.from_csv(\"raw_data/daily-totals_2016-05-29.csv\", index_col=None, parse_dates=[0])\n",
    "daily_metrics_May04 = pd.DataFrame.from_csv(\"raw_data/daily-totals_2016-05-04.csv\", index_col=None, parse_dates=[0])\n",
    "daily_metrics_Apr24 = pd.DataFrame.from_csv(\"raw_data/daily-totals_2016-04-24.csv\", index_col=None, parse_dates=[0])\n",
    "daily_metrics_Apr17 = pd.DataFrame.from_csv(\"raw_data/daily-totals_2016-04-17.csv\", index_col=None, parse_dates=[0])\n",
    "daily_metrics_Apr12 = pd.DataFrame.from_csv(\"raw_data/daily-totals_2016-04-12.csv\", index_col=None, parse_dates=[0])\n",
    "daily_metrics_Apr04 = pd.DataFrame.from_csv(\"raw_data/daily-totals_2016-04-04.csv\", index_col=None, parse_dates=[0])"
   ]
  },
  {
   "cell_type": "code",
   "execution_count": 195,
   "metadata": {
    "collapsed": true
   },
   "outputs": [],
   "source": [
    "update_string = ' (updated July 3, 2016)'"
   ]
  },
  {
   "cell_type": "code",
   "execution_count": 196,
   "metadata": {
    "collapsed": false
   },
   "outputs": [],
   "source": [
    "dates = daily_metrics.date\n",
    "dates = pd.to_datetime(dates)\n",
    "start = dates[0]\n",
    "periods = dates - start\n",
    "periods_days = periods / np.timedelta64(1, 'D')"
   ]
  },
  {
   "cell_type": "code",
   "execution_count": 197,
   "metadata": {
    "collapsed": true
   },
   "outputs": [],
   "source": [
    "daily = daily_metrics.set_index('date')\n",
    "weekly = daily.resample('W').sum()\n",
    "monthly = daily.resample('M').sum()\n",
    "daily_Jun12 = daily_metrics_Jun12.set_index('date')\n",
    "weekly_Jun12 = daily_Jun12.resample('W').sum()\n",
    "monthly_Jun12 = daily_Jun12.resample('M').sum()\n",
    "daily_May29 = daily_metrics_May29.set_index('date')\n",
    "weekly_May29 = daily_May29.resample('W').sum()\n",
    "monthly_May29 = daily_May29.resample('M').sum()\n",
    "daily_May04 = daily_metrics_May04.set_index('date')\n",
    "weekly_May04 = daily_May04.resample('W').sum()\n",
    "monthly_May04 = daily_May04.resample('M').sum()\n",
    "daily_Apr24 = daily_metrics_Apr24.set_index('date')\n",
    "monthly_Apr24 = daily_Apr24.resample('M').sum()\n",
    "daily_Apr17 = daily_metrics_Apr17.set_index('date')\n",
    "monthly_Apr17 = daily_Apr17.resample('M').sum()\n",
    "daily_Apr12 = daily_metrics_Apr12.set_index('date')\n",
    "monthly_Apr12 = daily_Apr12.resample('M').sum()\n",
    "daily_Apr04 = daily_metrics_Apr04.set_index('date')\n",
    "monthly_Apr04 = daily_Apr04.resample('M').sum()"
   ]
  },
  {
   "cell_type": "code",
   "execution_count": 198,
   "metadata": {
    "collapsed": true
   },
   "outputs": [],
   "source": [
    "# Get Dataframe of release dates\n",
    "episodes = pd.DataFrame.from_csv('/Users/coreypetty/PycharmProjects/TBP_metrics/raw_data/three-month-export_2016-07-03.csv', \n",
    "                                            index_col=None, parse_dates=['release_date'])\n",
    "episodes = episodes[['release_date','item_title','downloads__total']]\n",
    "episodes.columns = ['release_date','title', 'downloads']\n",
    "release_dates = list(episodes.release_date)"
   ]
  },
  {
   "cell_type": "code",
   "execution_count": 11,
   "metadata": {
    "collapsed": false
   },
   "outputs": [
    {
     "name": "stdout",
     "output_type": "stream",
     "text": [
      "a= 8.425606882778093, b=-0.009049184070826458, c=33.17762408514325\n"
     ]
    },
    {
     "data": {
      "text/html": [
       "<iframe id=\"igraph\" scrolling=\"no\" style=\"border:none;\" seamless=\"seamless\" src=\"https://plot.ly/~CoreyPetty/41.embed\" height=\"525px\" width=\"100%\"></iframe>"
      ],
      "text/plain": [
       "<plotly.tools.PlotlyDisplay object>"
      ]
     },
     "execution_count": 11,
     "metadata": {},
     "output_type": "execute_result"
    }
   ],
   "source": [
    "import matplotlib.dates as mdates\n",
    "from scipy.optimize import curve_fit\n",
    "def exponenial_func(x, a, b, c):\n",
    "    return a*np.exp(-b*x)+c\n",
    "\n",
    "x = periods_days\n",
    "y = daily_metrics.total_downloads\n",
    "popt, pcov = curve_fit(exponenial_func, x, y, p0=(1, 1e-6, 1))\n",
    "print(\"a= {}, b={}, c={}\".format(*popt))\n",
    "\n",
    "xx = np.linspace(1, 400, 1000)\n",
    "yy = exponenial_func(xx, *popt)\n",
    "\n",
    "\n",
    "\n",
    "trace = go.Scatter(\n",
    "    x=x, \n",
    "    y=daily_metrics.total_downloads,\n",
    "    name='Daily downloads',\n",
    ")\n",
    "trace2 = go.Scatter(\n",
    "                  x=xx, \n",
    "                  y=yy, \n",
    "                  mode='lines',\n",
    "                  marker=go.Marker(color='rgb(31, 119, 180)'),\n",
    "                  name='Fit'\n",
    "                  )\n",
    "\n",
    "annotation = go.Annotation(\n",
    "                  x=200,\n",
    "                  y=400,\n",
    "                  text='$\\\\textbf{Fit}: 7.56e^{-0.0093x} - 34.91$',\n",
    "                  showarrow=False\n",
    "                  )\n",
    "data = [trace, trace2]\n",
    "layout = go.Layout(\n",
    "    title=\"The Bitcoin Podcast daily downloads (updated June 26, 2016)\",\n",
    "    xaxis=go.XAxis(\n",
    "        title='Date',\n",
    "    ),\n",
    "    yaxis=go.YAxis(\n",
    "        title='Number of downloads',\n",
    "    ),\n",
    "#     shapes=shape_data,\n",
    "    annotations=[annotation],\n",
    ")\n",
    "fig = go.Figure(data=data, layout=layout)\n",
    "\n",
    "py.iplot(fig, filename=\"TBP_plots/daily_downloads-exp_fit\")"
   ]
  },
  {
   "cell_type": "code",
   "execution_count": 240,
   "metadata": {
    "collapsed": false
   },
   "outputs": [
    {
     "data": {
      "text/html": [
       "<iframe id=\"igraph\" scrolling=\"no\" style=\"border:none;\" seamless=\"seamless\" src=\"https://plot.ly/~CoreyPetty/28.embed\" height=\"525px\" width=\"100%\"></iframe>"
      ],
      "text/plain": [
       "<plotly.tools.PlotlyDisplay object>"
      ]
     },
     "execution_count": 240,
     "metadata": {},
     "output_type": "execute_result"
    }
   ],
   "source": [
    "trace = go.Scatter(\n",
    "    x=daily_metrics.date, \n",
    "    y=daily_metrics.total_downloads,\n",
    "    marker = {\n",
    "        'color': TBP_colors['orange'],\n",
    "    }\n",
    ")\n",
    "\n",
    "# Get ymax from total_downloads\n",
    "ymax = daily_metrics.total_downloads.max()\n",
    "\n",
    "# Make function to fill in shape data\n",
    "def make_shape_data(release_date, ymax):\n",
    "    return {\n",
    "        'type': 'line',\n",
    "        'x0': release_date,\n",
    "        'y0': 0,\n",
    "        'x1': release_date,\n",
    "        'y1': ymax,\n",
    "        'line': {\n",
    "                'color': '#2e2e2e',\n",
    "                'width': 1,\n",
    "                'dash': 'dash'\n",
    "                },\n",
    "        'opacity': 0.1,\n",
    "        }\n",
    "# Make lines shape data for each release date\n",
    "shape_data = []\n",
    "for release_date in release_dates:\n",
    "    shape_data.append(make_shape_data(release_date, ymax))\n",
    "\n",
    "layout = {\n",
    "    'title': \"Daily downloads\" + update_string,\n",
    "    'xaxis': {\n",
    "        'gridcolor': '#f2f2f2',\n",
    "        'zeroline': False,\n",
    "    },\n",
    "    'yaxis': {\n",
    "        'title': 'Total downloads',\n",
    "        'gridcolor': '#f2f2f2',\n",
    "        'zeroline': False,\n",
    "    },\n",
    "    'shapes': shape_data,\n",
    "    'paper_bgcolor': '#f2f2f2',\n",
    "    'plot_bgcolor': '#d7d8d8',\n",
    "    'font': dict(family='Helvetica, sans-serif', size=16, color='#2e2e2e'),\n",
    "}\n",
    "\n",
    "data = [trace]\n",
    "fig = {\n",
    "    'data': data,\n",
    "    'layout': layout,\n",
    "}\n",
    "#iplot_offline(fig) # offline\n",
    "py.iplot(fig, filename='TBP_plots/daily_total-downloads') # update online"
   ]
  },
  {
   "cell_type": "code",
   "execution_count": 200,
   "metadata": {
    "collapsed": false
   },
   "outputs": [
    {
     "data": {
      "text/html": [
       "<iframe id=\"igraph\" scrolling=\"no\" style=\"border:none;\" seamless=\"seamless\" src=\"https://plot.ly/~CoreyPetty/78.embed\" height=\"525px\" width=\"1200px\"></iframe>"
      ],
      "text/plain": [
       "<plotly.tools.PlotlyDisplay object>"
      ]
     },
     "execution_count": 200,
     "metadata": {},
     "output_type": "execute_result"
    }
   ],
   "source": [
    "bar_week = go.Bar(\n",
    "    x = weekly.index,\n",
    "    y = weekly.total_downloads,\n",
    "    marker=dict(\n",
    "        color=TBP_colors['orange'],\n",
    "        line=dict(\n",
    "            color='#e8800f',\n",
    "            width=1.5,\n",
    "        )\n",
    "    ),\n",
    "    opacity=0.8\n",
    ")\n",
    "\n",
    "layout = go.Layout(\n",
    "    title = 'Weekly Downloads' + update_string,\n",
    "    yaxis = dict(\n",
    "        title = 'Total downloads',\n",
    "        gridcolor='#f2f2f2',\n",
    "#         zerolinecolor='#969696',\n",
    "#         showline=True,\n",
    "    ),\n",
    "    xaxis = dict(\n",
    "#         zerolinecolor='#969696'\n",
    "        gridcolor='#f2f2f2',\n",
    "#         tickangle=45,\n",
    "    ),\n",
    "    paper_bgcolor='#f2f2f2',\n",
    "    plot_bgcolor='#d7d8d8',\n",
    "    font=dict(family='Helvetica, sans-serif', size=16, color='#2e2e2e'),\n",
    "    width=1200,\n",
    ")\n",
    "fig = dict(data=[bar_week], layout=layout)\n",
    "#iplot_offline(fig)\n",
    "iplot(fig, filename='TBP_plots/downloads-weekly')"
   ]
  },
  {
   "cell_type": "code",
   "execution_count": 202,
   "metadata": {
    "collapsed": false
   },
   "outputs": [
    {
     "data": {
      "text/html": [
       "<iframe id=\"igraph\" scrolling=\"no\" style=\"border:none;\" seamless=\"seamless\" src=\"https://plot.ly/~CoreyPetty/25.embed\" height=\"525px\" width=\"1200px\"></iframe>"
      ],
      "text/plain": [
       "<plotly.tools.PlotlyDisplay object>"
      ]
     },
     "execution_count": 202,
     "metadata": {},
     "output_type": "execute_result"
    }
   ],
   "source": [
    "#  Sort and plot by month\n",
    "months={0:\"January\", 1:\"February\", 2:\"March\", 3:\"April\", 45:\"May\", 46:\"May \", 55:\"June\", 56: \"June \", 65:\"July\", 66:\"July \", 7:\"August\", 8:\"September\", 9:\"October\", 10:\"November\", 11:\"December\"}\n",
    "years={5:\"2015\", 6:\"2016\"}\n",
    "#  Relabel to month name\n",
    "ts = pd.DataFrame(monthly).set_index(pd.Series([45,55,65,7,8,9,10,0,1,2,3,46,56,66]).apply(lambda x: months[x]))\n",
    "#  Plot\n",
    "\n",
    "bar_month = go.Bar(\n",
    "    x = ts.index,\n",
    "    y = ts.total_downloads,\n",
    "    marker=dict(\n",
    "        color=TBP_colors['orange'],\n",
    "        line=dict(\n",
    "            color='#e8800f',\n",
    "            width=1.5,\n",
    "        )\n",
    "    ),\n",
    "    opacity=0.8\n",
    ")\n",
    "\n",
    "layout = go.Layout(\n",
    "    title = 'Monthly Downloads' + update_string,\n",
    "    yaxis = dict(\n",
    "        title = 'Total downloads',\n",
    "        gridcolor='#f2f2f2',\n",
    "#         zerolinecolor='#969696',\n",
    "#         showline=True,\n",
    "    ),\n",
    "    xaxis = dict(\n",
    "#         zerolinecolor='#969696'\n",
    "        gridcolor='#f2f2f2',\n",
    "#         tickangle=45,\n",
    "    ),\n",
    "    paper_bgcolor='#f2f2f2',\n",
    "    plot_bgcolor='#d7d8d8',\n",
    "    font=dict(family='Helvetica, sans-serif', size=16, color='#2e2e2e'),\n",
    "    width=1200,\n",
    ")\n",
    "fig = dict(data=[bar_month], layout=layout)\n",
    "#iplot_offline(fig)\n",
    "iplot(fig, filename='TBP_plots/downloads-monthly')"
   ]
  },
  {
   "cell_type": "code",
   "execution_count": 203,
   "metadata": {
    "collapsed": false
   },
   "outputs": [],
   "source": [
    "episodes = episodes.sort_values(by='release_date')"
   ]
  },
  {
   "cell_type": "code",
   "execution_count": 204,
   "metadata": {
    "collapsed": false
   },
   "outputs": [
    {
     "data": {
      "text/html": [
       "<iframe id=\"igraph\" scrolling=\"no\" style=\"border:none;\" seamless=\"seamless\" src=\"https://plot.ly/~CoreyPetty/87.embed\" height=\"525px\" width=\"1200px\"></iframe>"
      ],
      "text/plain": [
       "<plotly.tools.PlotlyDisplay object>"
      ]
     },
     "execution_count": 204,
     "metadata": {},
     "output_type": "execute_result"
    }
   ],
   "source": [
    "barh_episodes = go.Bar(\n",
    "    x = episodes.downloads,\n",
    "    y = episodes.title,\n",
    "    marker=dict(\n",
    "        color=TBP_colors['orange'],\n",
    "        line=dict(\n",
    "            color='#e8800f',\n",
    "            width=1.5,\n",
    "        )\n",
    "    ),\n",
    "    opacity=0.8,\n",
    "    orientation = 'h'\n",
    ")\n",
    "\n",
    "layout = go.Layout(\n",
    "    title='Downloads by Episode' + update_string,\n",
    "    margin=go.Margin(\n",
    "        l=350,\n",
    "        r=30,\n",
    "        b=30,\n",
    "        t=50,\n",
    "        pad=4\n",
    "    ),\n",
    "    yaxis = dict(\n",
    "#         title = 'Total downloads',\n",
    "        gridcolor='#f2f2f2',\n",
    "#         zerolinecolor='#969696',\n",
    "#         showline=True,\n",
    "    ),\n",
    "    xaxis = dict(\n",
    "#         zerolinecolor='#969696'\n",
    "        gridcolor='#f2f2f2',\n",
    "#         tickangle=45,\n",
    "    ),\n",
    "    paper_bgcolor='#f2f2f2',\n",
    "    plot_bgcolor='#d7d8d8',\n",
    "    font=dict(family='Helvetica, sans-serif', size=16, color='#2e2e2e'),\n",
    "    width=1200,\n",
    ")\n",
    "fig = dict(data=[barh_episodes], layout=layout)\n",
    "#iplot_offline(fig)\n",
    "iplot(fig, filename='TBP_plots/Downloads by Episode')"
   ]
  },
  {
   "cell_type": "code",
   "execution_count": null,
   "metadata": {
    "collapsed": false
   },
   "outputs": [],
   "source": []
  },
  {
   "cell_type": "code",
   "execution_count": 74,
   "metadata": {
    "collapsed": false
   },
   "outputs": [],
   "source": [
    "cf.go_online()"
   ]
  },
  {
   "cell_type": "code",
   "execution_count": 228,
   "metadata": {
    "collapsed": false
   },
   "outputs": [],
   "source": [
    "days_of_week = {0: 'Monday', 1: 'Tuesday', 2: 'Wednesday', 3: 'Thursday', 4: 'Friday', 5: 'Saturday', 6: 'Sunday'}\n",
    "df_wkdays = daily\n",
    "df_wkdays['weekday'] = df_wkdays.reset_index().date.dt.dayofweek.values\n",
    "df_wkdays = df_wkdays.reset_index().pivot(index='date', columns='weekday', values='total_downloads')\n",
    "df_wkdays.columns = days_of_week.values()"
   ]
  },
  {
   "cell_type": "code",
   "execution_count": 239,
   "metadata": {
    "collapsed": false
   },
   "outputs": [
    {
     "data": {
      "text/html": [
       "<iframe id=\"igraph\" scrolling=\"no\" style=\"border:none;\" seamless=\"seamless\" src=\"https://plot.ly/~CoreyPetty/85.embed\" height=\"525px\" width=\"100%\"></iframe>"
      ],
      "text/plain": [
       "<plotly.tools.PlotlyDisplay object>"
      ]
     },
     "execution_count": 239,
     "metadata": {},
     "output_type": "execute_result"
    }
   ],
   "source": [
    "traces = []\n",
    "\n",
    "for xd, yd in df_wkdays.iteritems():\n",
    "        traces.append(go.Box(\n",
    "            y=yd,\n",
    "            name=xd,\n",
    "            boxpoints='all',\n",
    "            pointpos=0,\n",
    "            jitter=0.7,\n",
    "#             whiskerwidth=0.2,\n",
    "            fillcolor=TBP_colors['orange'],\n",
    "            marker=dict(\n",
    "                size=3,\n",
    "                color=TBP_colors['dark_orange'],\n",
    "            ),\n",
    "            line=dict(\n",
    "                width=1,\n",
    "                color=TBP_colors['dark_orange'],\n",
    "            ),\n",
    "        ))\n",
    "\n",
    "layout = go.Layout(\n",
    "    title='Day of the Week Stats' + update_string,\n",
    "    yaxis = dict(\n",
    "#         title = 'Total downloads',\n",
    "        gridcolor='#f2f2f2',\n",
    "#         zerolinecolor='#969696',\n",
    "#         showline=True,\n",
    "        zeroline=False,\n",
    "    ),\n",
    "    xaxis = dict(\n",
    "#         zerolinecolor='#969696'\n",
    "        gridcolor='#f2f2f2',\n",
    "        zeroline=False,\n",
    "#         tickangle=45,\n",
    "    ),\n",
    "    paper_bgcolor='#f2f2f2',\n",
    "    plot_bgcolor='#d7d8d8',\n",
    "    font=dict(family='Helvetica, sans-serif', size=16, color='#2e2e2e'),\n",
    "    showlegend=False,\n",
    ")\n",
    "\n",
    "fig = dict(data=traces, layout=layout)\n",
    "#iplot_offline(fig)\n",
    "iplot(fig, filename='TBP_plots/day_of_week_total')\n"
   ]
  },
  {
   "cell_type": "code",
   "execution_count": null,
   "metadata": {
    "collapsed": true
   },
   "outputs": [],
   "source": []
  }
 ],
 "metadata": {
  "kernelspec": {
   "display_name": "Python 3",
   "language": "python",
   "name": "python3"
  },
  "language_info": {
   "codemirror_mode": {
    "name": "ipython",
    "version": 3
   },
   "file_extension": ".py",
   "mimetype": "text/x-python",
   "name": "python",
   "nbconvert_exporter": "python",
   "pygments_lexer": "ipython3",
   "version": "3.5.1"
  }
 },
 "nbformat": 4,
 "nbformat_minor": 0
}
